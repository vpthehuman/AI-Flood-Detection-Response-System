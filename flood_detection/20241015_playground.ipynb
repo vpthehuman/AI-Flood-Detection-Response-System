{
 "cells": [
  {
   "cell_type": "code",
   "execution_count": 13,
   "metadata": {},
   "outputs": [],
   "source": [
    "from typing import Optional\n",
    "import copy\n",
    "import datetime\n",
    "import glob\n",
    "import os\n",
    "import time\n",
    "from collections import Counter\n",
    "\n",
    "import cv2\n",
    "import matplotlib.pyplot as plt\n",
    "import numpy as np\n",
    "import torch\n",
    "import torch.nn as nn\n",
    "import torchvision\n",
    "\n",
    "from PIL import Image\n",
    "from skimage import io\n",
    "from skimage.transform import resize as io_resize\n",
    "from sklearn.metrics import confusion_matrix, ConfusionMatrixDisplay, f1_score\n",
    "from sklearn.model_selection import train_test_split\n",
    "from torch.utils.tensorboard import SummaryWriter\n",
    "from torchvision import transforms as T\n",
    "from tqdm import tqdm\n",
    "\n",
    "device = torch.device(\"cuda:0\" if torch.cuda.is_available() else \"cpu\")"
   ]
  },
  {
   "cell_type": "markdown",
   "metadata": {},
   "source": [
    "## Load Labeled Data"
   ]
  },
  {
   "cell_type": "code",
   "execution_count": 2,
   "metadata": {},
   "outputs": [],
   "source": [
    "transforms = {\n",
    "    'train' : T.Compose([\n",
    "        T.ToPILImage(),\n",
    "        T.RandomHorizontalFlip(),\n",
    "        T.RandomVerticalFlip(),\n",
    "        T.ToTensor(),\n",
    "        T.Normalize([0.485, 0.456, 0.406], [0.229, 0.224, 0.225]),\n",
    "    ]),\n",
    "    'val' : T.Compose([\n",
    "        T.ToPILImage(),\n",
    "        T.ToTensor(),\n",
    "        T.Normalize([0.485, 0.456, 0.406], [0.229, 0.224, 0.225])\n",
    "    ])\n",
    "}\n",
    "\n",
    "\n",
    "class FloodDataset(torch.utils.data.Dataset):\n",
    "  \"\"\"\n",
    "  This is to use with array of files and array of labels as an input\n",
    "  \"\"\"\n",
    "  def __init__(self, X: list[str], y: Optional[list[int]], transform=None):\n",
    "    self.X = X\n",
    "    self.y = y\n",
    "    self.transform = transform\n",
    "    if y is not None:\n",
    "       assert len(X) == len(y)\n",
    "\n",
    "  def __len__(self):\n",
    "    return len(self.X)\n",
    "\n",
    "  def __getitem__(self, idx: int):\n",
    "    image = io.imread(self.X[idx])\n",
    "    if self.transform is not None:\n",
    "        image = self.transform(image)\n",
    "    if self.y is None:\n",
    "        return (image, idx)\n",
    "    return (image, self.y[idx])"
   ]
  },
  {
   "cell_type": "code",
   "execution_count": 3,
   "metadata": {},
   "outputs": [
    {
     "name": "stdout",
     "output_type": "stream",
     "text": [
      "199 Counter({0: 173, 1: 26}) 199 Counter({0: 174, 1: 25})\n"
     ]
    }
   ],
   "source": [
    "# load dataset\n",
    "flooded_files = glob.glob(\"../data/processed/train/labeled/flooded/img/*.jpg\")\n",
    "flooded_y = [1]*len(flooded_files)\n",
    "\n",
    "non_flooded_files = glob.glob(\"../data/processed/train/labeled/non-flooded/img/*.jpg\")\n",
    "non_flooded_y = [0]*len(non_flooded_files)\n",
    "\n",
    "X = flooded_files + non_flooded_files\n",
    "y = flooded_y + non_flooded_y\n",
    "\n",
    "X_train, X_val, y_train, y_val = train_test_split(X, y, train_size=0.5, stratify=y)\n",
    "print(len(X_train), Counter(y_train), len(X_val), Counter(y_val))"
   ]
  },
  {
   "cell_type": "code",
   "execution_count": 4,
   "metadata": {},
   "outputs": [],
   "source": [
    "# create sampler\n",
    "unique_labels, counts = np.unique(y_train, return_counts=True)\n",
    "class_weights = [1/c for c in counts]\n",
    "sample_weights = [0] * len(y_train)\n",
    "for idx, lbl in enumerate(y_train):\n",
    "    sample_weights[idx] = class_weights[lbl]\n",
    "sampler_train = torch.utils.data.WeightedRandomSampler(\n",
    "    weights=sample_weights,\n",
    "    num_samples=len(sample_weights),\n",
    "    replacement=True,\n",
    ")\n",
    "\n",
    "train_set = FloodDataset(X_train, y_train, transform=transforms['train'])\n",
    "val_set = FloodDataset(X_val, y_val, transform=transforms['val'])\n",
    "\n",
    "BATCH_SIZE = 64\n",
    "dataloaders = {\n",
    "    'train': torch.utils.data.DataLoader(train_set, batch_size=BATCH_SIZE, sampler=sampler_train),\n",
    "    'val': torch.utils.data.DataLoader(val_set, batch_size=BATCH_SIZE, shuffle=False)\n",
    "}\n",
    "dataset_size = {\n",
    "    'train':len(train_set),\n",
    "    'val':len(val_set),\n",
    "}"
   ]
  },
  {
   "cell_type": "markdown",
   "metadata": {},
   "source": [
    "## Load Unlabeled Data"
   ]
  },
  {
   "cell_type": "code",
   "execution_count": 5,
   "metadata": {},
   "outputs": [],
   "source": [
    "unlabeled_files = glob.glob(\"../data/processed/train/unlabeled/img/*.jpg\")\n",
    "\n",
    "# Adding validation set to unlabeled data\n",
    "for mode in ['validation', 'test']:\n",
    "    unlabeled_files += glob.glob(f\"../data/processed/{mode}/img/*.jpg\")\n",
    "\n",
    "unlabeled_files.sort()\n",
    "pseudo_labels = np.array([-1]*len(unlabeled_files))\n",
    "\n",
    "unlabeled_set = FloodDataset(unlabeled_files, None, transform=transforms['val'])\n",
    "unlabeled_loader = torch.utils.data.DataLoader(unlabeled_set, batch_size=BATCH_SIZE, shuffle=True, num_workers=0)\n",
    "\n",
    "dataloaders['unlabeled'] = unlabeled_loader\n",
    "dataset_size['unlabeled'] = len(unlabeled_set)"
   ]
  },
  {
   "cell_type": "markdown",
   "metadata": {},
   "source": [
    "## Model"
   ]
  },
  {
   "cell_type": "code",
   "execution_count": 6,
   "metadata": {},
   "outputs": [
    {
     "name": "stderr",
     "output_type": "stream",
     "text": [
      "/home/ryotaro/miniconda3/envs/py312/lib/python3.12/site-packages/torchvision/models/_utils.py:208: UserWarning: The parameter 'pretrained' is deprecated since 0.13 and may be removed in the future, please use 'weights' instead.\n",
      "  warnings.warn(\n",
      "/home/ryotaro/miniconda3/envs/py312/lib/python3.12/site-packages/torchvision/models/_utils.py:223: UserWarning: Arguments other than a weight enum or `None` for 'weights' are deprecated since 0.13 and may be removed in the future. The current behavior is equivalent to passing `weights=ResNet18_Weights.IMAGENET1K_V1`. You can also use `weights=ResNet18_Weights.DEFAULT` to get the most up-to-date weights.\n",
      "  warnings.warn(msg)\n"
     ]
    }
   ],
   "source": [
    "# >>> hyperparameters >>>\n",
    "lr = 0.01\n",
    "num_epochs = 100\n",
    "start_alpha_from = 5\n",
    "reach_max_alpha_in = 15\n",
    "# <<< hyperparameters <<<\n",
    "\n",
    "model = torchvision.models.resnet18(pretrained=True)\n",
    "final_layer_in = model.fc.in_features\n",
    "model.fc = torch.nn.Linear(final_layer_in, 2)\n",
    "model = model.to(device)\n",
    "criterion = torch.nn.CrossEntropyLoss()\n",
    "optimizer = torch.optim.SGD(model.parameters(), lr=lr)\n",
    "# optimizer = torch.optim.Adam(model.parameters())\n",
    "scheduler = None"
   ]
  },
  {
   "cell_type": "markdown",
   "metadata": {},
   "source": [
    "## Train"
   ]
  },
  {
   "cell_type": "code",
   "execution_count": 10,
   "metadata": {},
   "outputs": [
    {
     "name": "stderr",
     "output_type": "stream",
     "text": [
      "Epoch 0/100, train, alpha:0.00: 100%|██████████| 4/4 [00:00<00:00,  6.66it/s]\n"
     ]
    },
    {
     "name": "stdout",
     "output_type": "stream",
     "text": [
      "Epoch 0/100, train Loss: 0.4011, Acc:0.7990, F1:0.8413\n"
     ]
    },
    {
     "name": "stderr",
     "output_type": "stream",
     "text": [
      "Epoch 0/100, val, alpha:0.00: 100%|██████████| 4/4 [00:00<00:00, 12.33it/s]\n"
     ]
    },
    {
     "name": "stdout",
     "output_type": "stream",
     "text": [
      "Epoch 0/100, val Loss: 0.4803, Acc:0.7739, F1:0.4444\n"
     ]
    },
    {
     "name": "stderr",
     "output_type": "stream",
     "text": [
      "Epoch 1/100, train, alpha:0.00: 100%|██████████| 4/4 [00:00<00:00,  6.74it/s]\n"
     ]
    },
    {
     "name": "stdout",
     "output_type": "stream",
     "text": [
      "Epoch 1/100, train Loss: 0.2436, Acc:0.9095, F1:0.9143\n"
     ]
    },
    {
     "name": "stderr",
     "output_type": "stream",
     "text": [
      "Epoch 1/100, val, alpha:0.00: 100%|██████████| 4/4 [00:00<00:00, 12.21it/s]\n"
     ]
    },
    {
     "name": "stdout",
     "output_type": "stream",
     "text": [
      "Epoch 1/100, val Loss: 0.3852, Acc:0.8442, F1:0.5373\n"
     ]
    },
    {
     "name": "stderr",
     "output_type": "stream",
     "text": [
      "Epoch 2/100, train, alpha:0.00: 100%|██████████| 4/4 [00:00<00:00,  6.68it/s]\n"
     ]
    },
    {
     "name": "stdout",
     "output_type": "stream",
     "text": [
      "Epoch 2/100, train Loss: 0.2121, Acc:0.9246, F1:0.9198\n"
     ]
    },
    {
     "name": "stderr",
     "output_type": "stream",
     "text": [
      "Epoch 2/100, val, alpha:0.00: 100%|██████████| 4/4 [00:00<00:00, 12.33it/s]\n"
     ]
    },
    {
     "name": "stdout",
     "output_type": "stream",
     "text": [
      "Epoch 2/100, val Loss: 0.3973, Acc:0.8090, F1:0.4865\n"
     ]
    },
    {
     "name": "stderr",
     "output_type": "stream",
     "text": [
      "Epoch 3/100, train, alpha:0.00: 100%|██████████| 4/4 [00:00<00:00,  6.52it/s]\n"
     ]
    },
    {
     "name": "stdout",
     "output_type": "stream",
     "text": [
      "Epoch 3/100, train Loss: 0.1931, Acc:0.9548, F1:0.9480\n"
     ]
    },
    {
     "name": "stderr",
     "output_type": "stream",
     "text": [
      "Epoch 3/100, val, alpha:0.00: 100%|██████████| 4/4 [00:00<00:00, 12.09it/s]\n"
     ]
    },
    {
     "name": "stdout",
     "output_type": "stream",
     "text": [
      "Epoch 3/100, val Loss: 0.2128, Acc:0.9397, F1:0.6842\n"
     ]
    },
    {
     "name": "stderr",
     "output_type": "stream",
     "text": [
      "Epoch 4/100, train, alpha:0.00: 100%|██████████| 4/4 [00:00<00:00,  6.70it/s]\n"
     ]
    },
    {
     "name": "stdout",
     "output_type": "stream",
     "text": [
      "Epoch 4/100, train Loss: 0.1740, Acc:0.9397, F1:0.9333\n"
     ]
    },
    {
     "name": "stderr",
     "output_type": "stream",
     "text": [
      "Predicting pseudo labels: 100%|██████████| 31/31 [00:03<00:00,  9.83it/s]\n",
      "Epoch 4/100, val, alpha:0.00: 100%|██████████| 4/4 [00:00<00:00, 13.40it/s]\n"
     ]
    },
    {
     "name": "stdout",
     "output_type": "stream",
     "text": [
      "Epoch 4/100, val Loss: 0.2223, Acc:0.9347, F1:0.6977\n"
     ]
    },
    {
     "name": "stderr",
     "output_type": "stream",
     "text": [
      "Epoch 5/100, train, alpha:0.00: 100%|██████████| 4/4 [00:00<00:00,  6.92it/s]\n"
     ]
    },
    {
     "name": "stdout",
     "output_type": "stream",
     "text": [
      "Epoch 5/100, train Loss: 0.1967, Acc:0.9246, F1:0.9315\n"
     ]
    },
    {
     "name": "stderr",
     "output_type": "stream",
     "text": [
      "Predicting pseudo labels: 100%|██████████| 31/31 [00:03<00:00,  9.76it/s]\n",
      "Epoch 5/100, val, alpha:0.00: 100%|██████████| 4/4 [00:00<00:00, 12.24it/s]\n"
     ]
    },
    {
     "name": "stdout",
     "output_type": "stream",
     "text": [
      "Epoch 5/100, val Loss: 0.2760, Acc:0.9196, F1:0.6800\n"
     ]
    },
    {
     "name": "stderr",
     "output_type": "stream",
     "text": [
      "Epoch 6/100, train, alpha:0.11: 100%|██████████| 4/4 [00:00<00:00,  6.74it/s]\n"
     ]
    },
    {
     "name": "stdout",
     "output_type": "stream",
     "text": [
      "Epoch 6/100, train Loss: 0.1637, Acc:0.9497, F1:0.9438\n"
     ]
    },
    {
     "name": "stderr",
     "output_type": "stream",
     "text": [
      "Predicting pseudo labels: 100%|██████████| 31/31 [00:03<00:00,  9.87it/s]\n",
      "Epoch 6/100, unlabeled, alpha:0.11: 100%|██████████| 31/31 [00:03<00:00,  8.31it/s]\n"
     ]
    },
    {
     "name": "stdout",
     "output_type": "stream",
     "text": [
      "Epoch 6/100, unlabeled Loss: 0.1637, Acc:0.9497, F1:0.9438\n"
     ]
    },
    {
     "name": "stderr",
     "output_type": "stream",
     "text": [
      "Epoch 6/100, val, alpha:0.11: 100%|██████████| 4/4 [00:00<00:00, 13.17it/s]\n"
     ]
    },
    {
     "name": "stdout",
     "output_type": "stream",
     "text": [
      "Epoch 6/100, val Loss: 0.2098, Acc:0.9397, F1:0.6842\n"
     ]
    },
    {
     "name": "stderr",
     "output_type": "stream",
     "text": [
      "Epoch 7/100, train, alpha:0.22: 100%|██████████| 4/4 [00:00<00:00,  6.82it/s]\n"
     ]
    },
    {
     "name": "stdout",
     "output_type": "stream",
     "text": [
      "Epoch 7/100, train Loss: 0.2249, Acc:0.9196, F1:0.9048\n"
     ]
    },
    {
     "name": "stderr",
     "output_type": "stream",
     "text": [
      "Predicting pseudo labels: 100%|██████████| 31/31 [00:02<00:00, 10.83it/s]\n",
      "Epoch 7/100, unlabeled, alpha:0.22: 100%|██████████| 31/31 [00:03<00:00,  8.33it/s]\n"
     ]
    },
    {
     "name": "stdout",
     "output_type": "stream",
     "text": [
      "Epoch 7/100, unlabeled Loss: 0.2249, Acc:0.9196, F1:0.9048\n"
     ]
    },
    {
     "name": "stderr",
     "output_type": "stream",
     "text": [
      "Epoch 7/100, val, alpha:0.22: 100%|██████████| 4/4 [00:00<00:00, 12.67it/s]\n"
     ]
    },
    {
     "name": "stdout",
     "output_type": "stream",
     "text": [
      "Epoch 7/100, val Loss: 0.2276, Acc:0.9397, F1:0.7391\n"
     ]
    },
    {
     "name": "stderr",
     "output_type": "stream",
     "text": [
      "Epoch 8/100, train, alpha:0.33: 100%|██████████| 4/4 [00:00<00:00,  6.36it/s]\n"
     ]
    },
    {
     "name": "stdout",
     "output_type": "stream",
     "text": [
      "Epoch 8/100, train Loss: 0.1620, Acc:0.9447, F1:0.9357\n"
     ]
    },
    {
     "name": "stderr",
     "output_type": "stream",
     "text": [
      "Predicting pseudo labels: 100%|██████████| 31/31 [00:03<00:00, 10.24it/s]\n",
      "Epoch 8/100, unlabeled, alpha:0.33: 100%|██████████| 31/31 [00:03<00:00,  8.27it/s]\n"
     ]
    },
    {
     "name": "stdout",
     "output_type": "stream",
     "text": [
      "Epoch 8/100, unlabeled Loss: 0.1620, Acc:0.9447, F1:0.9357\n"
     ]
    },
    {
     "name": "stderr",
     "output_type": "stream",
     "text": [
      "Epoch 8/100, val, alpha:0.33: 100%|██████████| 4/4 [00:00<00:00, 12.76it/s]\n"
     ]
    },
    {
     "name": "stdout",
     "output_type": "stream",
     "text": [
      "Epoch 8/100, val Loss: 0.2039, Acc:0.9347, F1:0.6667\n"
     ]
    },
    {
     "name": "stderr",
     "output_type": "stream",
     "text": [
      "Epoch 9/100, train, alpha:0.44: 100%|██████████| 4/4 [00:00<00:00,  6.77it/s]\n"
     ]
    },
    {
     "name": "stdout",
     "output_type": "stream",
     "text": [
      "Epoch 9/100, train Loss: 0.1620, Acc:0.9548, F1:0.9514\n"
     ]
    },
    {
     "name": "stderr",
     "output_type": "stream",
     "text": [
      "Predicting pseudo labels: 100%|██████████| 31/31 [00:03<00:00,  9.79it/s]\n",
      "Epoch 9/100, unlabeled, alpha:0.44: 100%|██████████| 31/31 [00:03<00:00,  8.27it/s]\n"
     ]
    },
    {
     "name": "stdout",
     "output_type": "stream",
     "text": [
      "Epoch 9/100, unlabeled Loss: 0.1620, Acc:0.9548, F1:0.9514\n"
     ]
    },
    {
     "name": "stderr",
     "output_type": "stream",
     "text": [
      "Epoch 9/100, val, alpha:0.44: 100%|██████████| 4/4 [00:00<00:00, 12.45it/s]\n"
     ]
    },
    {
     "name": "stdout",
     "output_type": "stream",
     "text": [
      "Epoch 9/100, val Loss: 0.2011, Acc:0.9497, F1:0.7727\n"
     ]
    },
    {
     "name": "stderr",
     "output_type": "stream",
     "text": [
      "Epoch 10/100, train, alpha:0.56: 100%|██████████| 4/4 [00:00<00:00,  6.51it/s]\n"
     ]
    },
    {
     "name": "stdout",
     "output_type": "stream",
     "text": [
      "Epoch 10/100, train Loss: 0.3170, Acc:0.9095, F1:0.9062\n"
     ]
    },
    {
     "name": "stderr",
     "output_type": "stream",
     "text": [
      "Predicting pseudo labels: 100%|██████████| 31/31 [00:03<00:00,  9.88it/s]\n",
      "Epoch 10/100, unlabeled, alpha:0.56: 100%|██████████| 31/31 [00:03<00:00,  8.21it/s]\n"
     ]
    },
    {
     "name": "stdout",
     "output_type": "stream",
     "text": [
      "Epoch 10/100, unlabeled Loss: 0.3170, Acc:0.9095, F1:0.9062\n"
     ]
    },
    {
     "name": "stderr",
     "output_type": "stream",
     "text": [
      "Epoch 10/100, val, alpha:0.56: 100%|██████████| 4/4 [00:00<00:00, 12.43it/s]\n"
     ]
    },
    {
     "name": "stdout",
     "output_type": "stream",
     "text": [
      "Epoch 10/100, val Loss: 0.2051, Acc:0.9497, F1:0.7727\n"
     ]
    },
    {
     "name": "stderr",
     "output_type": "stream",
     "text": [
      "Epoch 11/100, train, alpha:0.67: 100%|██████████| 4/4 [00:00<00:00,  6.49it/s]\n"
     ]
    },
    {
     "name": "stdout",
     "output_type": "stream",
     "text": [
      "Epoch 11/100, train Loss: 0.1087, Acc:0.9698, F1:0.9677\n"
     ]
    },
    {
     "name": "stderr",
     "output_type": "stream",
     "text": [
      "Predicting pseudo labels: 100%|██████████| 31/31 [00:03<00:00, 10.04it/s]\n",
      "Epoch 11/100, unlabeled, alpha:0.67: 100%|██████████| 31/31 [00:03<00:00,  8.21it/s]\n"
     ]
    },
    {
     "name": "stdout",
     "output_type": "stream",
     "text": [
      "Epoch 11/100, unlabeled Loss: 0.1087, Acc:0.9698, F1:0.9677\n"
     ]
    },
    {
     "name": "stderr",
     "output_type": "stream",
     "text": [
      "Epoch 11/100, val, alpha:0.67: 100%|██████████| 4/4 [00:00<00:00, 12.39it/s]\n"
     ]
    },
    {
     "name": "stdout",
     "output_type": "stream",
     "text": [
      "Epoch 11/100, val Loss: 0.2556, Acc:0.9196, F1:0.6800\n"
     ]
    },
    {
     "name": "stderr",
     "output_type": "stream",
     "text": [
      "Epoch 12/100, train, alpha:0.78: 100%|██████████| 4/4 [00:00<00:00,  6.65it/s]\n"
     ]
    },
    {
     "name": "stdout",
     "output_type": "stream",
     "text": [
      "Epoch 12/100, train Loss: 0.1503, Acc:0.9347, F1:0.9240\n"
     ]
    },
    {
     "name": "stderr",
     "output_type": "stream",
     "text": [
      "Predicting pseudo labels: 100%|██████████| 31/31 [00:03<00:00,  9.84it/s]\n",
      "Epoch 12/100, unlabeled, alpha:0.78: 100%|██████████| 31/31 [00:03<00:00,  8.22it/s]\n"
     ]
    },
    {
     "name": "stdout",
     "output_type": "stream",
     "text": [
      "Epoch 12/100, unlabeled Loss: 0.1503, Acc:0.9347, F1:0.9240\n"
     ]
    },
    {
     "name": "stderr",
     "output_type": "stream",
     "text": [
      "Epoch 12/100, val, alpha:0.78: 100%|██████████| 4/4 [00:00<00:00, 11.08it/s]\n"
     ]
    },
    {
     "name": "stdout",
     "output_type": "stream",
     "text": [
      "Epoch 12/100, val Loss: 0.2305, Acc:0.9246, F1:0.6939\n"
     ]
    },
    {
     "name": "stderr",
     "output_type": "stream",
     "text": [
      "Epoch 13/100, train, alpha:0.89: 100%|██████████| 4/4 [00:00<00:00,  6.64it/s]\n"
     ]
    },
    {
     "name": "stdout",
     "output_type": "stream",
     "text": [
      "Epoch 13/100, train Loss: 0.1616, Acc:0.9347, F1:0.9249\n"
     ]
    },
    {
     "name": "stderr",
     "output_type": "stream",
     "text": [
      "Predicting pseudo labels: 100%|██████████| 31/31 [00:03<00:00, 10.15it/s]\n",
      "Epoch 13/100, unlabeled, alpha:0.89: 100%|██████████| 31/31 [00:03<00:00,  8.18it/s]\n"
     ]
    },
    {
     "name": "stdout",
     "output_type": "stream",
     "text": [
      "Epoch 13/100, unlabeled Loss: 0.1616, Acc:0.9347, F1:0.9249\n"
     ]
    },
    {
     "name": "stderr",
     "output_type": "stream",
     "text": [
      "Epoch 13/100, val, alpha:0.89: 100%|██████████| 4/4 [00:00<00:00, 12.62it/s]\n"
     ]
    },
    {
     "name": "stdout",
     "output_type": "stream",
     "text": [
      "Epoch 13/100, val Loss: 0.2527, Acc:0.9347, F1:0.7234\n"
     ]
    },
    {
     "name": "stderr",
     "output_type": "stream",
     "text": [
      "Epoch 14/100, train, alpha:1.00: 100%|██████████| 4/4 [00:00<00:00,  6.67it/s]\n"
     ]
    },
    {
     "name": "stdout",
     "output_type": "stream",
     "text": [
      "Epoch 14/100, train Loss: 0.1018, Acc:0.9799, F1:0.9802\n"
     ]
    },
    {
     "name": "stderr",
     "output_type": "stream",
     "text": [
      "Predicting pseudo labels: 100%|██████████| 31/31 [00:03<00:00, 10.03it/s]\n",
      "Epoch 14/100, unlabeled, alpha:1.00: 100%|██████████| 31/31 [00:03<00:00,  8.15it/s]\n"
     ]
    },
    {
     "name": "stdout",
     "output_type": "stream",
     "text": [
      "Epoch 14/100, unlabeled Loss: 0.1018, Acc:0.9799, F1:0.9802\n"
     ]
    },
    {
     "name": "stderr",
     "output_type": "stream",
     "text": [
      "Epoch 14/100, val, alpha:1.00: 100%|██████████| 4/4 [00:00<00:00, 12.27it/s]\n"
     ]
    },
    {
     "name": "stdout",
     "output_type": "stream",
     "text": [
      "Epoch 14/100, val Loss: 0.2756, Acc:0.9196, F1:0.6800\n"
     ]
    },
    {
     "name": "stderr",
     "output_type": "stream",
     "text": [
      "Epoch 15/100, train, alpha:1.00: 100%|██████████| 4/4 [00:00<00:00,  6.68it/s]\n"
     ]
    },
    {
     "name": "stdout",
     "output_type": "stream",
     "text": [
      "Epoch 15/100, train Loss: 0.1019, Acc:0.9648, F1:0.9595\n"
     ]
    },
    {
     "name": "stderr",
     "output_type": "stream",
     "text": [
      "Predicting pseudo labels: 100%|██████████| 31/31 [00:03<00:00,  9.93it/s]\n",
      "Epoch 15/100, unlabeled, alpha:1.00: 100%|██████████| 31/31 [00:03<00:00,  8.10it/s]\n"
     ]
    },
    {
     "name": "stdout",
     "output_type": "stream",
     "text": [
      "Epoch 15/100, unlabeled Loss: 0.1019, Acc:0.9648, F1:0.9595\n"
     ]
    },
    {
     "name": "stderr",
     "output_type": "stream",
     "text": [
      "Epoch 15/100, val, alpha:1.00: 100%|██████████| 4/4 [00:00<00:00, 11.40it/s]\n"
     ]
    },
    {
     "name": "stdout",
     "output_type": "stream",
     "text": [
      "Epoch 15/100, val Loss: 0.2586, Acc:0.9296, F1:0.7083\n"
     ]
    },
    {
     "name": "stderr",
     "output_type": "stream",
     "text": [
      "Epoch 16/100, train, alpha:1.00: 100%|██████████| 4/4 [00:00<00:00,  6.34it/s]\n"
     ]
    },
    {
     "name": "stdout",
     "output_type": "stream",
     "text": [
      "Epoch 16/100, train Loss: 0.1135, Acc:0.9548, F1:0.9524\n"
     ]
    },
    {
     "name": "stderr",
     "output_type": "stream",
     "text": [
      "Predicting pseudo labels: 100%|██████████| 31/31 [00:03<00:00,  9.91it/s]\n",
      "Epoch 16/100, unlabeled, alpha:1.00: 100%|██████████| 31/31 [00:03<00:00,  8.14it/s]\n"
     ]
    },
    {
     "name": "stdout",
     "output_type": "stream",
     "text": [
      "Epoch 16/100, unlabeled Loss: 0.1135, Acc:0.9548, F1:0.9524\n"
     ]
    },
    {
     "name": "stderr",
     "output_type": "stream",
     "text": [
      "Epoch 16/100, val, alpha:1.00: 100%|██████████| 4/4 [00:00<00:00, 12.46it/s]\n"
     ]
    },
    {
     "name": "stdout",
     "output_type": "stream",
     "text": [
      "Epoch 16/100, val Loss: 0.2430, Acc:0.9397, F1:0.7391\n"
     ]
    },
    {
     "name": "stderr",
     "output_type": "stream",
     "text": [
      "Epoch 17/100, train, alpha:1.00: 100%|██████████| 4/4 [00:00<00:00,  6.62it/s]\n"
     ]
    },
    {
     "name": "stdout",
     "output_type": "stream",
     "text": [
      "Epoch 17/100, train Loss: 0.1329, Acc:0.9548, F1:0.9529\n"
     ]
    },
    {
     "name": "stderr",
     "output_type": "stream",
     "text": [
      "Predicting pseudo labels: 100%|██████████| 31/31 [00:03<00:00,  9.82it/s]\n",
      "Epoch 17/100, unlabeled, alpha:1.00: 100%|██████████| 31/31 [00:03<00:00,  8.13it/s]\n"
     ]
    },
    {
     "name": "stdout",
     "output_type": "stream",
     "text": [
      "Epoch 17/100, unlabeled Loss: 0.1329, Acc:0.9548, F1:0.9529\n"
     ]
    },
    {
     "name": "stderr",
     "output_type": "stream",
     "text": [
      "Epoch 17/100, val, alpha:1.00: 100%|██████████| 4/4 [00:00<00:00, 11.98it/s]\n"
     ]
    },
    {
     "name": "stdout",
     "output_type": "stream",
     "text": [
      "Epoch 17/100, val Loss: 0.2534, Acc:0.9246, F1:0.6939\n"
     ]
    },
    {
     "name": "stderr",
     "output_type": "stream",
     "text": [
      "Epoch 18/100, train, alpha:1.00: 100%|██████████| 4/4 [00:00<00:00,  6.53it/s]\n"
     ]
    },
    {
     "name": "stdout",
     "output_type": "stream",
     "text": [
      "Epoch 18/100, train Loss: 0.1268, Acc:0.9548, F1:0.9538\n"
     ]
    },
    {
     "name": "stderr",
     "output_type": "stream",
     "text": [
      "Predicting pseudo labels: 100%|██████████| 31/31 [00:03<00:00, 10.13it/s]\n",
      "Epoch 18/100, unlabeled, alpha:1.00: 100%|██████████| 31/31 [00:03<00:00,  8.13it/s]\n"
     ]
    },
    {
     "name": "stdout",
     "output_type": "stream",
     "text": [
      "Epoch 18/100, unlabeled Loss: 0.1268, Acc:0.9548, F1:0.9538\n"
     ]
    },
    {
     "name": "stderr",
     "output_type": "stream",
     "text": [
      "Epoch 18/100, val, alpha:1.00: 100%|██████████| 4/4 [00:00<00:00, 12.39it/s]\n"
     ]
    },
    {
     "name": "stdout",
     "output_type": "stream",
     "text": [
      "Epoch 18/100, val Loss: 0.3645, Acc:0.8844, F1:0.6230\n"
     ]
    },
    {
     "name": "stderr",
     "output_type": "stream",
     "text": [
      "Epoch 19/100, train, alpha:1.00: 100%|██████████| 4/4 [00:00<00:00,  6.57it/s]\n"
     ]
    },
    {
     "name": "stdout",
     "output_type": "stream",
     "text": [
      "Epoch 19/100, train Loss: 0.0555, Acc:0.9799, F1:0.9808\n"
     ]
    },
    {
     "name": "stderr",
     "output_type": "stream",
     "text": [
      "Predicting pseudo labels: 100%|██████████| 31/31 [00:03<00:00,  9.81it/s]\n",
      "Epoch 19/100, unlabeled, alpha:1.00: 100%|██████████| 31/31 [00:03<00:00,  8.13it/s]\n"
     ]
    },
    {
     "name": "stdout",
     "output_type": "stream",
     "text": [
      "Epoch 19/100, unlabeled Loss: 0.0555, Acc:0.9799, F1:0.9808\n"
     ]
    },
    {
     "name": "stderr",
     "output_type": "stream",
     "text": [
      "Epoch 19/100, val, alpha:1.00: 100%|██████████| 4/4 [00:00<00:00, 12.26it/s]\n"
     ]
    },
    {
     "name": "stdout",
     "output_type": "stream",
     "text": [
      "Epoch 19/100, val Loss: 0.2771, Acc:0.9246, F1:0.6939\n"
     ]
    },
    {
     "name": "stderr",
     "output_type": "stream",
     "text": [
      "Epoch 20/100, train, alpha:1.00: 100%|██████████| 4/4 [00:00<00:00,  6.52it/s]\n"
     ]
    },
    {
     "name": "stdout",
     "output_type": "stream",
     "text": [
      "Epoch 20/100, train Loss: 0.0700, Acc:0.9799, F1:0.9813\n"
     ]
    },
    {
     "name": "stderr",
     "output_type": "stream",
     "text": [
      "Predicting pseudo labels: 100%|██████████| 31/31 [00:03<00:00,  9.89it/s]\n",
      "Epoch 20/100, unlabeled, alpha:1.00: 100%|██████████| 31/31 [00:03<00:00,  8.15it/s]\n"
     ]
    },
    {
     "name": "stdout",
     "output_type": "stream",
     "text": [
      "Epoch 20/100, unlabeled Loss: 0.0700, Acc:0.9799, F1:0.9813\n"
     ]
    },
    {
     "name": "stderr",
     "output_type": "stream",
     "text": [
      "Epoch 20/100, val, alpha:1.00: 100%|██████████| 4/4 [00:00<00:00, 11.84it/s]\n"
     ]
    },
    {
     "name": "stdout",
     "output_type": "stream",
     "text": [
      "Epoch 20/100, val Loss: 0.2793, Acc:0.9246, F1:0.6939\n"
     ]
    },
    {
     "name": "stderr",
     "output_type": "stream",
     "text": [
      "Epoch 21/100, train, alpha:1.00: 100%|██████████| 4/4 [00:00<00:00,  6.63it/s]\n"
     ]
    },
    {
     "name": "stdout",
     "output_type": "stream",
     "text": [
      "Epoch 21/100, train Loss: 0.0314, Acc:0.9899, F1:0.9892\n"
     ]
    },
    {
     "name": "stderr",
     "output_type": "stream",
     "text": [
      "Predicting pseudo labels: 100%|██████████| 31/31 [00:03<00:00,  9.89it/s]\n",
      "Epoch 21/100, unlabeled, alpha:1.00: 100%|██████████| 31/31 [00:03<00:00,  8.15it/s]\n"
     ]
    },
    {
     "name": "stdout",
     "output_type": "stream",
     "text": [
      "Epoch 21/100, unlabeled Loss: 0.0314, Acc:0.9899, F1:0.9892\n"
     ]
    },
    {
     "name": "stderr",
     "output_type": "stream",
     "text": [
      "Epoch 21/100, val, alpha:1.00: 100%|██████████| 4/4 [00:00<00:00, 11.99it/s]\n"
     ]
    },
    {
     "name": "stdout",
     "output_type": "stream",
     "text": [
      "Epoch 21/100, val Loss: 0.2822, Acc:0.9296, F1:0.7083\n"
     ]
    },
    {
     "name": "stderr",
     "output_type": "stream",
     "text": [
      "Epoch 22/100, train, alpha:1.00: 100%|██████████| 4/4 [00:00<00:00,  6.59it/s]\n"
     ]
    },
    {
     "name": "stdout",
     "output_type": "stream",
     "text": [
      "Epoch 22/100, train Loss: 0.0304, Acc:0.9899, F1:0.9892\n"
     ]
    },
    {
     "name": "stderr",
     "output_type": "stream",
     "text": [
      "Predicting pseudo labels: 100%|██████████| 31/31 [00:03<00:00,  9.88it/s]\n",
      "Epoch 22/100, unlabeled, alpha:1.00: 100%|██████████| 31/31 [00:03<00:00,  8.15it/s]\n"
     ]
    },
    {
     "name": "stdout",
     "output_type": "stream",
     "text": [
      "Epoch 22/100, unlabeled Loss: 0.0304, Acc:0.9899, F1:0.9892\n"
     ]
    },
    {
     "name": "stderr",
     "output_type": "stream",
     "text": [
      "Epoch 22/100, val, alpha:1.00: 100%|██████████| 4/4 [00:00<00:00, 12.39it/s]\n"
     ]
    },
    {
     "name": "stdout",
     "output_type": "stream",
     "text": [
      "Epoch 22/100, val Loss: 0.2975, Acc:0.9246, F1:0.6939\n"
     ]
    },
    {
     "name": "stderr",
     "output_type": "stream",
     "text": [
      "Epoch 23/100, train, alpha:1.00: 100%|██████████| 4/4 [00:00<00:00,  6.59it/s]\n"
     ]
    },
    {
     "name": "stdout",
     "output_type": "stream",
     "text": [
      "Epoch 23/100, train Loss: 0.0268, Acc:1.0000, F1:1.0000\n"
     ]
    },
    {
     "name": "stderr",
     "output_type": "stream",
     "text": [
      "Predicting pseudo labels: 100%|██████████| 31/31 [00:03<00:00,  9.86it/s]\n",
      "Epoch 23/100, unlabeled, alpha:1.00: 100%|██████████| 31/31 [00:03<00:00,  8.14it/s]\n"
     ]
    },
    {
     "name": "stdout",
     "output_type": "stream",
     "text": [
      "Epoch 23/100, unlabeled Loss: 0.0268, Acc:1.0000, F1:1.0000\n"
     ]
    },
    {
     "name": "stderr",
     "output_type": "stream",
     "text": [
      "Epoch 23/100, val, alpha:1.00: 100%|██████████| 4/4 [00:00<00:00, 12.32it/s]\n"
     ]
    },
    {
     "name": "stdout",
     "output_type": "stream",
     "text": [
      "Epoch 23/100, val Loss: 0.3114, Acc:0.9296, F1:0.7083\n"
     ]
    },
    {
     "name": "stderr",
     "output_type": "stream",
     "text": [
      "Epoch 24/100, train, alpha:1.00: 100%|██████████| 4/4 [00:00<00:00,  6.43it/s]\n"
     ]
    },
    {
     "name": "stdout",
     "output_type": "stream",
     "text": [
      "Epoch 24/100, train Loss: 0.2149, Acc:0.9246, F1:0.9327\n"
     ]
    },
    {
     "name": "stderr",
     "output_type": "stream",
     "text": [
      "Predicting pseudo labels: 100%|██████████| 31/31 [00:03<00:00,  9.84it/s]\n",
      "Epoch 24/100, unlabeled, alpha:1.00: 100%|██████████| 31/31 [00:03<00:00,  8.13it/s]\n"
     ]
    },
    {
     "name": "stdout",
     "output_type": "stream",
     "text": [
      "Epoch 24/100, unlabeled Loss: 0.2149, Acc:0.9246, F1:0.9327\n"
     ]
    },
    {
     "name": "stderr",
     "output_type": "stream",
     "text": [
      "Epoch 24/100, val, alpha:1.00: 100%|██████████| 4/4 [00:00<00:00, 12.24it/s]\n"
     ]
    },
    {
     "name": "stdout",
     "output_type": "stream",
     "text": [
      "Epoch 24/100, val Loss: 0.3312, Acc:0.9146, F1:0.6909\n"
     ]
    },
    {
     "name": "stderr",
     "output_type": "stream",
     "text": [
      "Epoch 25/100, train, alpha:1.00: 100%|██████████| 4/4 [00:00<00:00,  6.61it/s]\n"
     ]
    },
    {
     "name": "stdout",
     "output_type": "stream",
     "text": [
      "Epoch 25/100, train Loss: 0.0430, Acc:0.9749, F1:0.9763\n"
     ]
    },
    {
     "name": "stderr",
     "output_type": "stream",
     "text": [
      "Predicting pseudo labels: 100%|██████████| 31/31 [00:03<00:00,  9.80it/s]\n",
      "Epoch 25/100, unlabeled, alpha:1.00: 100%|██████████| 31/31 [00:03<00:00,  8.13it/s]\n"
     ]
    },
    {
     "name": "stdout",
     "output_type": "stream",
     "text": [
      "Epoch 25/100, unlabeled Loss: 0.0430, Acc:0.9749, F1:0.9763\n"
     ]
    },
    {
     "name": "stderr",
     "output_type": "stream",
     "text": [
      "Epoch 25/100, val, alpha:1.00: 100%|██████████| 4/4 [00:00<00:00, 12.43it/s]\n"
     ]
    },
    {
     "name": "stdout",
     "output_type": "stream",
     "text": [
      "Epoch 25/100, val Loss: 0.3059, Acc:0.9246, F1:0.6939\n"
     ]
    },
    {
     "name": "stderr",
     "output_type": "stream",
     "text": [
      "Epoch 26/100, train, alpha:1.00: 100%|██████████| 4/4 [00:00<00:00,  6.61it/s]\n"
     ]
    },
    {
     "name": "stdout",
     "output_type": "stream",
     "text": [
      "Epoch 26/100, train Loss: 0.0295, Acc:0.9950, F1:0.9948\n"
     ]
    },
    {
     "name": "stderr",
     "output_type": "stream",
     "text": [
      "Predicting pseudo labels: 100%|██████████| 31/31 [00:03<00:00,  9.77it/s]\n",
      "Epoch 26/100, unlabeled, alpha:1.00: 100%|██████████| 31/31 [00:03<00:00,  8.14it/s]\n"
     ]
    },
    {
     "name": "stdout",
     "output_type": "stream",
     "text": [
      "Epoch 26/100, unlabeled Loss: 0.0295, Acc:0.9950, F1:0.9948\n"
     ]
    },
    {
     "name": "stderr",
     "output_type": "stream",
     "text": [
      "Epoch 26/100, val, alpha:1.00: 100%|██████████| 4/4 [00:00<00:00, 12.58it/s]\n"
     ]
    },
    {
     "name": "stdout",
     "output_type": "stream",
     "text": [
      "Epoch 26/100, val Loss: 0.3105, Acc:0.9246, F1:0.6939\n"
     ]
    },
    {
     "name": "stderr",
     "output_type": "stream",
     "text": [
      "Epoch 27/100, train, alpha:1.00: 100%|██████████| 4/4 [00:00<00:00,  6.52it/s]\n"
     ]
    },
    {
     "name": "stdout",
     "output_type": "stream",
     "text": [
      "Epoch 27/100, train Loss: 0.0231, Acc:1.0000, F1:1.0000\n"
     ]
    },
    {
     "name": "stderr",
     "output_type": "stream",
     "text": [
      "Predicting pseudo labels: 100%|██████████| 31/31 [00:03<00:00, 10.04it/s]\n",
      "Epoch 27/100, unlabeled, alpha:1.00: 100%|██████████| 31/31 [00:03<00:00,  8.13it/s]\n"
     ]
    },
    {
     "name": "stdout",
     "output_type": "stream",
     "text": [
      "Epoch 27/100, unlabeled Loss: 0.0231, Acc:1.0000, F1:1.0000\n"
     ]
    },
    {
     "name": "stderr",
     "output_type": "stream",
     "text": [
      "Epoch 27/100, val, alpha:1.00: 100%|██████████| 4/4 [00:00<00:00, 12.56it/s]\n"
     ]
    },
    {
     "name": "stdout",
     "output_type": "stream",
     "text": [
      "Epoch 27/100, val Loss: 0.3178, Acc:0.9296, F1:0.7083\n"
     ]
    },
    {
     "name": "stderr",
     "output_type": "stream",
     "text": [
      "Epoch 28/100, train, alpha:1.00: 100%|██████████| 4/4 [00:00<00:00,  6.67it/s]\n"
     ]
    },
    {
     "name": "stdout",
     "output_type": "stream",
     "text": [
      "Epoch 28/100, train Loss: 0.0181, Acc:1.0000, F1:1.0000\n"
     ]
    },
    {
     "name": "stderr",
     "output_type": "stream",
     "text": [
      "Predicting pseudo labels: 100%|██████████| 31/31 [00:03<00:00, 10.01it/s]\n",
      "Epoch 28/100, unlabeled, alpha:1.00: 100%|██████████| 31/31 [00:03<00:00,  8.13it/s]\n"
     ]
    },
    {
     "name": "stdout",
     "output_type": "stream",
     "text": [
      "Epoch 28/100, unlabeled Loss: 0.0181, Acc:1.0000, F1:1.0000\n"
     ]
    },
    {
     "name": "stderr",
     "output_type": "stream",
     "text": [
      "Epoch 28/100, val, alpha:1.00: 100%|██████████| 4/4 [00:00<00:00, 12.64it/s]\n"
     ]
    },
    {
     "name": "stdout",
     "output_type": "stream",
     "text": [
      "Epoch 28/100, val Loss: 0.3311, Acc:0.9196, F1:0.6800\n"
     ]
    },
    {
     "name": "stderr",
     "output_type": "stream",
     "text": [
      "Epoch 29/100, train, alpha:1.00: 100%|██████████| 4/4 [00:00<00:00,  6.69it/s]\n"
     ]
    },
    {
     "name": "stdout",
     "output_type": "stream",
     "text": [
      "Epoch 29/100, train Loss: 0.0723, Acc:0.9749, F1:0.9751\n"
     ]
    },
    {
     "name": "stderr",
     "output_type": "stream",
     "text": [
      "Predicting pseudo labels: 100%|██████████| 31/31 [00:03<00:00, 10.06it/s]\n",
      "Epoch 29/100, unlabeled, alpha:1.00: 100%|██████████| 31/31 [00:03<00:00,  8.15it/s]\n"
     ]
    },
    {
     "name": "stdout",
     "output_type": "stream",
     "text": [
      "Epoch 29/100, unlabeled Loss: 0.0723, Acc:0.9749, F1:0.9751\n"
     ]
    },
    {
     "name": "stderr",
     "output_type": "stream",
     "text": [
      "Epoch 29/100, val, alpha:1.00: 100%|██████████| 4/4 [00:00<00:00, 12.87it/s]\n"
     ]
    },
    {
     "name": "stdout",
     "output_type": "stream",
     "text": [
      "Epoch 29/100, val Loss: 0.3399, Acc:0.9246, F1:0.6939\n"
     ]
    },
    {
     "name": "stderr",
     "output_type": "stream",
     "text": [
      "Epoch 30/100, train, alpha:1.00: 100%|██████████| 4/4 [00:00<00:00,  6.66it/s]\n"
     ]
    },
    {
     "name": "stdout",
     "output_type": "stream",
     "text": [
      "Epoch 30/100, train Loss: 0.0224, Acc:0.9950, F1:0.9945\n"
     ]
    },
    {
     "name": "stderr",
     "output_type": "stream",
     "text": [
      "Predicting pseudo labels: 100%|██████████| 31/31 [00:02<00:00, 10.36it/s]\n",
      "Epoch 30/100, unlabeled, alpha:1.00: 100%|██████████| 31/31 [00:03<00:00,  8.14it/s]\n"
     ]
    },
    {
     "name": "stdout",
     "output_type": "stream",
     "text": [
      "Epoch 30/100, unlabeled Loss: 0.0224, Acc:0.9950, F1:0.9945\n"
     ]
    },
    {
     "name": "stderr",
     "output_type": "stream",
     "text": [
      "Epoch 30/100, val, alpha:1.00: 100%|██████████| 4/4 [00:00<00:00, 12.65it/s]\n"
     ]
    },
    {
     "name": "stdout",
     "output_type": "stream",
     "text": [
      "Epoch 30/100, val Loss: 0.3241, Acc:0.9196, F1:0.6923\n"
     ]
    },
    {
     "name": "stderr",
     "output_type": "stream",
     "text": [
      "Epoch 31/100, train, alpha:1.00: 100%|██████████| 4/4 [00:00<00:00,  6.29it/s]\n"
     ]
    },
    {
     "name": "stdout",
     "output_type": "stream",
     "text": [
      "Epoch 31/100, train Loss: 0.0283, Acc:1.0000, F1:1.0000\n"
     ]
    },
    {
     "name": "stderr",
     "output_type": "stream",
     "text": [
      "Predicting pseudo labels: 100%|██████████| 31/31 [00:03<00:00, 10.29it/s]\n",
      "Epoch 31/100, unlabeled, alpha:1.00: 100%|██████████| 31/31 [00:03<00:00,  8.13it/s]\n"
     ]
    },
    {
     "name": "stdout",
     "output_type": "stream",
     "text": [
      "Epoch 31/100, unlabeled Loss: 0.0283, Acc:1.0000, F1:1.0000\n"
     ]
    },
    {
     "name": "stderr",
     "output_type": "stream",
     "text": [
      "Epoch 31/100, val, alpha:1.00: 100%|██████████| 4/4 [00:00<00:00, 12.61it/s]\n"
     ]
    },
    {
     "name": "stdout",
     "output_type": "stream",
     "text": [
      "Epoch 31/100, val Loss: 0.3477, Acc:0.9146, F1:0.6792\n"
     ]
    },
    {
     "name": "stderr",
     "output_type": "stream",
     "text": [
      "Epoch 32/100, train, alpha:1.00: 100%|██████████| 4/4 [00:00<00:00,  6.34it/s]\n"
     ]
    },
    {
     "name": "stdout",
     "output_type": "stream",
     "text": [
      "Epoch 32/100, train Loss: 0.0069, Acc:1.0000, F1:1.0000\n"
     ]
    },
    {
     "name": "stderr",
     "output_type": "stream",
     "text": [
      "Predicting pseudo labels: 100%|██████████| 31/31 [00:03<00:00,  9.96it/s]\n",
      "Epoch 32/100, unlabeled, alpha:1.00: 100%|██████████| 31/31 [00:03<00:00,  8.13it/s]\n"
     ]
    },
    {
     "name": "stdout",
     "output_type": "stream",
     "text": [
      "Epoch 32/100, unlabeled Loss: 0.0069, Acc:1.0000, F1:1.0000\n"
     ]
    },
    {
     "name": "stderr",
     "output_type": "stream",
     "text": [
      "Epoch 32/100, val, alpha:1.00: 100%|██████████| 4/4 [00:00<00:00, 12.35it/s]\n"
     ]
    },
    {
     "name": "stdout",
     "output_type": "stream",
     "text": [
      "Epoch 32/100, val Loss: 0.3410, Acc:0.9246, F1:0.7059\n"
     ]
    },
    {
     "name": "stderr",
     "output_type": "stream",
     "text": [
      "Epoch 33/100, train, alpha:1.00: 100%|██████████| 4/4 [00:00<00:00,  6.31it/s]\n"
     ]
    },
    {
     "name": "stdout",
     "output_type": "stream",
     "text": [
      "Epoch 33/100, train Loss: 0.0105, Acc:1.0000, F1:1.0000\n"
     ]
    },
    {
     "name": "stderr",
     "output_type": "stream",
     "text": [
      "Predicting pseudo labels: 100%|██████████| 31/31 [00:03<00:00,  9.90it/s]\n",
      "Epoch 33/100, unlabeled, alpha:1.00: 100%|██████████| 31/31 [00:03<00:00,  8.13it/s]\n"
     ]
    },
    {
     "name": "stdout",
     "output_type": "stream",
     "text": [
      "Epoch 33/100, unlabeled Loss: 0.0105, Acc:1.0000, F1:1.0000\n"
     ]
    },
    {
     "name": "stderr",
     "output_type": "stream",
     "text": [
      "Epoch 33/100, val, alpha:1.00: 100%|██████████| 4/4 [00:00<00:00, 12.26it/s]\n"
     ]
    },
    {
     "name": "stdout",
     "output_type": "stream",
     "text": [
      "Epoch 33/100, val Loss: 0.3442, Acc:0.9246, F1:0.7059\n"
     ]
    },
    {
     "name": "stderr",
     "output_type": "stream",
     "text": [
      "Epoch 34/100, train, alpha:1.00: 100%|██████████| 4/4 [00:00<00:00,  6.57it/s]\n"
     ]
    },
    {
     "name": "stdout",
     "output_type": "stream",
     "text": [
      "Epoch 34/100, train Loss: 0.0122, Acc:0.9950, F1:0.9948\n"
     ]
    },
    {
     "name": "stderr",
     "output_type": "stream",
     "text": [
      "Predicting pseudo labels: 100%|██████████| 31/31 [00:03<00:00, 10.04it/s]\n",
      "Epoch 34/100, unlabeled, alpha:1.00: 100%|██████████| 31/31 [00:03<00:00,  8.14it/s]\n"
     ]
    },
    {
     "name": "stdout",
     "output_type": "stream",
     "text": [
      "Epoch 34/100, unlabeled Loss: 0.0122, Acc:0.9950, F1:0.9948\n"
     ]
    },
    {
     "name": "stderr",
     "output_type": "stream",
     "text": [
      "Epoch 34/100, val, alpha:1.00: 100%|██████████| 4/4 [00:00<00:00, 12.83it/s]\n"
     ]
    },
    {
     "name": "stdout",
     "output_type": "stream",
     "text": [
      "Epoch 34/100, val Loss: 0.3585, Acc:0.9246, F1:0.7059\n"
     ]
    },
    {
     "name": "stderr",
     "output_type": "stream",
     "text": [
      "Epoch 35/100, train, alpha:1.00: 100%|██████████| 4/4 [00:00<00:00,  6.53it/s]\n"
     ]
    },
    {
     "name": "stdout",
     "output_type": "stream",
     "text": [
      "Epoch 35/100, train Loss: 0.0143, Acc:0.9950, F1:0.9950\n"
     ]
    },
    {
     "name": "stderr",
     "output_type": "stream",
     "text": [
      "Predicting pseudo labels: 100%|██████████| 31/31 [00:03<00:00,  9.94it/s]\n",
      "Epoch 35/100, unlabeled, alpha:1.00: 100%|██████████| 31/31 [00:03<00:00,  8.13it/s]\n"
     ]
    },
    {
     "name": "stdout",
     "output_type": "stream",
     "text": [
      "Epoch 35/100, unlabeled Loss: 0.0143, Acc:0.9950, F1:0.9950\n"
     ]
    },
    {
     "name": "stderr",
     "output_type": "stream",
     "text": [
      "Epoch 35/100, val, alpha:1.00: 100%|██████████| 4/4 [00:00<00:00, 12.10it/s]\n"
     ]
    },
    {
     "name": "stdout",
     "output_type": "stream",
     "text": [
      "Epoch 35/100, val Loss: 0.3551, Acc:0.9296, F1:0.7200\n"
     ]
    },
    {
     "name": "stderr",
     "output_type": "stream",
     "text": [
      "Epoch 36/100, train, alpha:1.00: 100%|██████████| 4/4 [00:00<00:00,  6.65it/s]\n"
     ]
    },
    {
     "name": "stdout",
     "output_type": "stream",
     "text": [
      "Epoch 36/100, train Loss: 0.0152, Acc:1.0000, F1:1.0000\n"
     ]
    },
    {
     "name": "stderr",
     "output_type": "stream",
     "text": [
      "Predicting pseudo labels: 100%|██████████| 31/31 [00:03<00:00, 10.03it/s]\n",
      "Epoch 36/100, unlabeled, alpha:1.00: 100%|██████████| 31/31 [00:03<00:00,  8.14it/s]\n"
     ]
    },
    {
     "name": "stdout",
     "output_type": "stream",
     "text": [
      "Epoch 36/100, unlabeled Loss: 0.0152, Acc:1.0000, F1:1.0000\n"
     ]
    },
    {
     "name": "stderr",
     "output_type": "stream",
     "text": [
      "Epoch 36/100, val, alpha:1.00: 100%|██████████| 4/4 [00:00<00:00, 12.18it/s]\n"
     ]
    },
    {
     "name": "stdout",
     "output_type": "stream",
     "text": [
      "Epoch 36/100, val Loss: 0.3678, Acc:0.9196, F1:0.6923\n"
     ]
    },
    {
     "name": "stderr",
     "output_type": "stream",
     "text": [
      "Epoch 37/100, train, alpha:1.00: 100%|██████████| 4/4 [00:00<00:00,  6.25it/s]\n"
     ]
    },
    {
     "name": "stdout",
     "output_type": "stream",
     "text": [
      "Epoch 37/100, train Loss: 0.0061, Acc:1.0000, F1:1.0000\n"
     ]
    },
    {
     "name": "stderr",
     "output_type": "stream",
     "text": [
      "Predicting pseudo labels: 100%|██████████| 31/31 [00:03<00:00,  9.91it/s]\n",
      "Epoch 37/100, unlabeled, alpha:1.00: 100%|██████████| 31/31 [00:03<00:00,  8.11it/s]\n"
     ]
    },
    {
     "name": "stdout",
     "output_type": "stream",
     "text": [
      "Epoch 37/100, unlabeled Loss: 0.0061, Acc:1.0000, F1:1.0000\n"
     ]
    },
    {
     "name": "stderr",
     "output_type": "stream",
     "text": [
      "Epoch 37/100, val, alpha:1.00: 100%|██████████| 4/4 [00:00<00:00, 12.31it/s]\n"
     ]
    },
    {
     "name": "stdout",
     "output_type": "stream",
     "text": [
      "Epoch 37/100, val Loss: 0.3704, Acc:0.9196, F1:0.6923\n"
     ]
    },
    {
     "name": "stderr",
     "output_type": "stream",
     "text": [
      "Epoch 38/100, train, alpha:1.00: 100%|██████████| 4/4 [00:00<00:00,  6.65it/s]\n"
     ]
    },
    {
     "name": "stdout",
     "output_type": "stream",
     "text": [
      "Epoch 38/100, train Loss: 0.0853, Acc:0.9799, F1:0.9775\n"
     ]
    },
    {
     "name": "stderr",
     "output_type": "stream",
     "text": [
      "Predicting pseudo labels: 100%|██████████| 31/31 [00:03<00:00,  9.99it/s]\n",
      "Epoch 38/100, unlabeled, alpha:1.00: 100%|██████████| 31/31 [00:03<00:00,  8.13it/s]\n"
     ]
    },
    {
     "name": "stdout",
     "output_type": "stream",
     "text": [
      "Epoch 38/100, unlabeled Loss: 0.0853, Acc:0.9799, F1:0.9775\n"
     ]
    },
    {
     "name": "stderr",
     "output_type": "stream",
     "text": [
      "Epoch 38/100, val, alpha:1.00: 100%|██████████| 4/4 [00:00<00:00, 12.46it/s]\n"
     ]
    },
    {
     "name": "stdout",
     "output_type": "stream",
     "text": [
      "Epoch 38/100, val Loss: 1.9846, Acc:0.5829, F1:0.3360\n"
     ]
    },
    {
     "name": "stderr",
     "output_type": "stream",
     "text": [
      "Epoch 39/100, train, alpha:1.00: 100%|██████████| 4/4 [00:00<00:00,  6.69it/s]\n"
     ]
    },
    {
     "name": "stdout",
     "output_type": "stream",
     "text": [
      "Epoch 39/100, train Loss: 0.0676, Acc:0.9749, F1:0.9756\n"
     ]
    },
    {
     "name": "stderr",
     "output_type": "stream",
     "text": [
      "Predicting pseudo labels: 100%|██████████| 31/31 [00:03<00:00, 10.14it/s]\n",
      "Epoch 39/100, unlabeled, alpha:1.00: 100%|██████████| 31/31 [00:03<00:00,  8.03it/s]\n"
     ]
    },
    {
     "name": "stdout",
     "output_type": "stream",
     "text": [
      "Epoch 39/100, unlabeled Loss: 0.0676, Acc:0.9749, F1:0.9756\n"
     ]
    },
    {
     "name": "stderr",
     "output_type": "stream",
     "text": [
      "Epoch 39/100, val, alpha:1.00: 100%|██████████| 4/4 [00:00<00:00, 12.70it/s]\n"
     ]
    },
    {
     "name": "stdout",
     "output_type": "stream",
     "text": [
      "Epoch 39/100, val Loss: 1.1676, Acc:0.7739, F1:0.4828\n"
     ]
    },
    {
     "name": "stderr",
     "output_type": "stream",
     "text": [
      "Epoch 40/100, train, alpha:1.00: 100%|██████████| 4/4 [00:00<00:00,  6.64it/s]\n"
     ]
    },
    {
     "name": "stdout",
     "output_type": "stream",
     "text": [
      "Epoch 40/100, train Loss: 0.0278, Acc:0.9799, F1:0.9789\n"
     ]
    },
    {
     "name": "stderr",
     "output_type": "stream",
     "text": [
      "Predicting pseudo labels: 100%|██████████| 31/31 [00:03<00:00,  9.89it/s]\n",
      "Epoch 40/100, unlabeled, alpha:1.00: 100%|██████████| 31/31 [00:03<00:00,  8.14it/s]\n"
     ]
    },
    {
     "name": "stdout",
     "output_type": "stream",
     "text": [
      "Epoch 40/100, unlabeled Loss: 0.0278, Acc:0.9799, F1:0.9789\n"
     ]
    },
    {
     "name": "stderr",
     "output_type": "stream",
     "text": [
      "Epoch 40/100, val, alpha:1.00: 100%|██████████| 4/4 [00:00<00:00, 12.20it/s]\n"
     ]
    },
    {
     "name": "stdout",
     "output_type": "stream",
     "text": [
      "Epoch 40/100, val Loss: 0.5624, Acc:0.8894, F1:0.6207\n"
     ]
    },
    {
     "name": "stderr",
     "output_type": "stream",
     "text": [
      "Epoch 41/100, train, alpha:1.00: 100%|██████████| 4/4 [00:00<00:00,  6.55it/s]\n"
     ]
    },
    {
     "name": "stdout",
     "output_type": "stream",
     "text": [
      "Epoch 41/100, train Loss: 0.0091, Acc:0.9950, F1:0.9950\n"
     ]
    },
    {
     "name": "stderr",
     "output_type": "stream",
     "text": [
      "Predicting pseudo labels: 100%|██████████| 31/31 [00:03<00:00, 10.06it/s]\n",
      "Epoch 41/100, unlabeled, alpha:1.00: 100%|██████████| 31/31 [00:03<00:00,  8.13it/s]\n"
     ]
    },
    {
     "name": "stdout",
     "output_type": "stream",
     "text": [
      "Epoch 41/100, unlabeled Loss: 0.0091, Acc:0.9950, F1:0.9950\n"
     ]
    },
    {
     "name": "stderr",
     "output_type": "stream",
     "text": [
      "Epoch 41/100, val, alpha:1.00: 100%|██████████| 4/4 [00:00<00:00, 12.09it/s]\n"
     ]
    },
    {
     "name": "stdout",
     "output_type": "stream",
     "text": [
      "Epoch 41/100, val Loss: 0.4910, Acc:0.8995, F1:0.6296\n"
     ]
    },
    {
     "name": "stderr",
     "output_type": "stream",
     "text": [
      "Epoch 42/100, train, alpha:1.00: 100%|██████████| 4/4 [00:00<00:00,  6.26it/s]\n"
     ]
    },
    {
     "name": "stdout",
     "output_type": "stream",
     "text": [
      "Epoch 42/100, train Loss: 0.0060, Acc:1.0000, F1:1.0000\n"
     ]
    },
    {
     "name": "stderr",
     "output_type": "stream",
     "text": [
      "Predicting pseudo labels: 100%|██████████| 31/31 [00:02<00:00, 10.37it/s]\n",
      "Epoch 42/100, unlabeled, alpha:1.00: 100%|██████████| 31/31 [00:03<00:00,  8.12it/s]\n"
     ]
    },
    {
     "name": "stdout",
     "output_type": "stream",
     "text": [
      "Epoch 42/100, unlabeled Loss: 0.0060, Acc:1.0000, F1:1.0000\n"
     ]
    },
    {
     "name": "stderr",
     "output_type": "stream",
     "text": [
      "Epoch 42/100, val, alpha:1.00: 100%|██████████| 4/4 [00:00<00:00, 12.42it/s]\n"
     ]
    },
    {
     "name": "stdout",
     "output_type": "stream",
     "text": [
      "Epoch 42/100, val Loss: 0.4451, Acc:0.9095, F1:0.6667\n"
     ]
    },
    {
     "name": "stderr",
     "output_type": "stream",
     "text": [
      "Epoch 43/100, train, alpha:1.00: 100%|██████████| 4/4 [00:00<00:00,  6.52it/s]\n"
     ]
    },
    {
     "name": "stdout",
     "output_type": "stream",
     "text": [
      "Epoch 43/100, train Loss: 0.0178, Acc:0.9899, F1:0.9899\n"
     ]
    },
    {
     "name": "stderr",
     "output_type": "stream",
     "text": [
      "Predicting pseudo labels: 100%|██████████| 31/31 [00:03<00:00,  9.76it/s]\n",
      "Epoch 43/100, unlabeled, alpha:1.00: 100%|██████████| 31/31 [00:03<00:00,  8.13it/s]\n"
     ]
    },
    {
     "name": "stdout",
     "output_type": "stream",
     "text": [
      "Epoch 43/100, unlabeled Loss: 0.0178, Acc:0.9899, F1:0.9899\n"
     ]
    },
    {
     "name": "stderr",
     "output_type": "stream",
     "text": [
      "Epoch 43/100, val, alpha:1.00: 100%|██████████| 4/4 [00:00<00:00, 11.97it/s]\n"
     ]
    },
    {
     "name": "stdout",
     "output_type": "stream",
     "text": [
      "Epoch 43/100, val Loss: 0.4176, Acc:0.9146, F1:0.6792\n"
     ]
    },
    {
     "name": "stderr",
     "output_type": "stream",
     "text": [
      "Epoch 44/100, train, alpha:1.00: 100%|██████████| 4/4 [00:00<00:00,  6.41it/s]\n"
     ]
    },
    {
     "name": "stdout",
     "output_type": "stream",
     "text": [
      "Epoch 44/100, train Loss: 0.0437, Acc:0.9950, F1:0.9952\n"
     ]
    },
    {
     "name": "stderr",
     "output_type": "stream",
     "text": [
      "Predicting pseudo labels: 100%|██████████| 31/31 [00:03<00:00,  9.71it/s]\n",
      "Epoch 44/100, unlabeled, alpha:1.00: 100%|██████████| 31/31 [00:03<00:00,  8.13it/s]\n"
     ]
    },
    {
     "name": "stdout",
     "output_type": "stream",
     "text": [
      "Epoch 44/100, unlabeled Loss: 0.0437, Acc:0.9950, F1:0.9952\n"
     ]
    },
    {
     "name": "stderr",
     "output_type": "stream",
     "text": [
      "Epoch 44/100, val, alpha:1.00: 100%|██████████| 4/4 [00:00<00:00, 12.09it/s]\n"
     ]
    },
    {
     "name": "stdout",
     "output_type": "stream",
     "text": [
      "Epoch 44/100, val Loss: 0.3357, Acc:0.9347, F1:0.7347\n"
     ]
    },
    {
     "name": "stderr",
     "output_type": "stream",
     "text": [
      "Epoch 45/100, train, alpha:1.00: 100%|██████████| 4/4 [00:00<00:00,  6.59it/s]\n"
     ]
    },
    {
     "name": "stdout",
     "output_type": "stream",
     "text": [
      "Epoch 45/100, train Loss: 0.0136, Acc:1.0000, F1:1.0000\n"
     ]
    },
    {
     "name": "stderr",
     "output_type": "stream",
     "text": [
      "Predicting pseudo labels: 100%|██████████| 31/31 [00:03<00:00,  9.69it/s]\n",
      "Epoch 45/100, unlabeled, alpha:1.00: 100%|██████████| 31/31 [00:03<00:00,  8.13it/s]\n"
     ]
    },
    {
     "name": "stdout",
     "output_type": "stream",
     "text": [
      "Epoch 45/100, unlabeled Loss: 0.0136, Acc:1.0000, F1:1.0000\n"
     ]
    },
    {
     "name": "stderr",
     "output_type": "stream",
     "text": [
      "Epoch 45/100, val, alpha:1.00: 100%|██████████| 4/4 [00:00<00:00, 12.30it/s]\n"
     ]
    },
    {
     "name": "stdout",
     "output_type": "stream",
     "text": [
      "Epoch 45/100, val Loss: 0.3204, Acc:0.9296, F1:0.7200\n"
     ]
    },
    {
     "name": "stderr",
     "output_type": "stream",
     "text": [
      "Epoch 46/100, train, alpha:1.00: 100%|██████████| 4/4 [00:00<00:00,  6.34it/s]\n"
     ]
    },
    {
     "name": "stdout",
     "output_type": "stream",
     "text": [
      "Epoch 46/100, train Loss: 0.0068, Acc:1.0000, F1:1.0000\n"
     ]
    },
    {
     "name": "stderr",
     "output_type": "stream",
     "text": [
      "Predicting pseudo labels: 100%|██████████| 31/31 [00:03<00:00,  9.77it/s]\n",
      "Epoch 46/100, unlabeled, alpha:1.00: 100%|██████████| 31/31 [00:03<00:00,  8.13it/s]\n"
     ]
    },
    {
     "name": "stdout",
     "output_type": "stream",
     "text": [
      "Epoch 46/100, unlabeled Loss: 0.0068, Acc:1.0000, F1:1.0000\n"
     ]
    },
    {
     "name": "stderr",
     "output_type": "stream",
     "text": [
      "Epoch 46/100, val, alpha:1.00: 100%|██████████| 4/4 [00:00<00:00, 10.88it/s]\n"
     ]
    },
    {
     "name": "stdout",
     "output_type": "stream",
     "text": [
      "Epoch 46/100, val Loss: 0.3108, Acc:0.9397, F1:0.7500\n"
     ]
    },
    {
     "name": "stderr",
     "output_type": "stream",
     "text": [
      "Epoch 47/100, train, alpha:1.00: 100%|██████████| 4/4 [00:00<00:00,  6.54it/s]\n"
     ]
    },
    {
     "name": "stdout",
     "output_type": "stream",
     "text": [
      "Epoch 47/100, train Loss: 0.0065, Acc:1.0000, F1:1.0000\n"
     ]
    },
    {
     "name": "stderr",
     "output_type": "stream",
     "text": [
      "Predicting pseudo labels: 100%|██████████| 31/31 [00:03<00:00,  9.94it/s]\n",
      "Epoch 47/100, unlabeled, alpha:1.00: 100%|██████████| 31/31 [00:03<00:00,  8.13it/s]\n"
     ]
    },
    {
     "name": "stdout",
     "output_type": "stream",
     "text": [
      "Epoch 47/100, unlabeled Loss: 0.0065, Acc:1.0000, F1:1.0000\n"
     ]
    },
    {
     "name": "stderr",
     "output_type": "stream",
     "text": [
      "Epoch 47/100, val, alpha:1.00: 100%|██████████| 4/4 [00:00<00:00, 12.46it/s]\n"
     ]
    },
    {
     "name": "stdout",
     "output_type": "stream",
     "text": [
      "Epoch 47/100, val Loss: 0.3127, Acc:0.9397, F1:0.7500\n"
     ]
    },
    {
     "name": "stderr",
     "output_type": "stream",
     "text": [
      "Epoch 48/100, train, alpha:1.00: 100%|██████████| 4/4 [00:00<00:00,  6.55it/s]\n"
     ]
    },
    {
     "name": "stdout",
     "output_type": "stream",
     "text": [
      "Epoch 48/100, train Loss: 0.0112, Acc:1.0000, F1:1.0000\n"
     ]
    },
    {
     "name": "stderr",
     "output_type": "stream",
     "text": [
      "Predicting pseudo labels: 100%|██████████| 31/31 [00:03<00:00,  9.74it/s]\n",
      "Epoch 48/100, unlabeled, alpha:1.00: 100%|██████████| 31/31 [00:03<00:00,  8.12it/s]\n"
     ]
    },
    {
     "name": "stdout",
     "output_type": "stream",
     "text": [
      "Epoch 48/100, unlabeled Loss: 0.0112, Acc:1.0000, F1:1.0000\n"
     ]
    },
    {
     "name": "stderr",
     "output_type": "stream",
     "text": [
      "Epoch 48/100, val, alpha:1.00: 100%|██████████| 4/4 [00:00<00:00, 11.84it/s]\n"
     ]
    },
    {
     "name": "stdout",
     "output_type": "stream",
     "text": [
      "Epoch 48/100, val Loss: 0.3299, Acc:0.9397, F1:0.7500\n"
     ]
    },
    {
     "name": "stderr",
     "output_type": "stream",
     "text": [
      "Epoch 49/100, train, alpha:1.00: 100%|██████████| 4/4 [00:00<00:00,  6.26it/s]\n"
     ]
    },
    {
     "name": "stdout",
     "output_type": "stream",
     "text": [
      "Epoch 49/100, train Loss: 0.0159, Acc:0.9950, F1:0.9952\n"
     ]
    },
    {
     "name": "stderr",
     "output_type": "stream",
     "text": [
      "Predicting pseudo labels: 100%|██████████| 31/31 [00:03<00:00,  9.88it/s]\n",
      "Epoch 49/100, unlabeled, alpha:1.00: 100%|██████████| 31/31 [00:03<00:00,  8.13it/s]\n"
     ]
    },
    {
     "name": "stdout",
     "output_type": "stream",
     "text": [
      "Epoch 49/100, unlabeled Loss: 0.0159, Acc:0.9950, F1:0.9952\n"
     ]
    },
    {
     "name": "stderr",
     "output_type": "stream",
     "text": [
      "Epoch 49/100, val, alpha:1.00: 100%|██████████| 4/4 [00:00<00:00, 12.48it/s]\n"
     ]
    },
    {
     "name": "stdout",
     "output_type": "stream",
     "text": [
      "Epoch 49/100, val Loss: 0.3213, Acc:0.9447, F1:0.7660\n"
     ]
    },
    {
     "name": "stderr",
     "output_type": "stream",
     "text": [
      "Epoch 50/100, train, alpha:1.00: 100%|██████████| 4/4 [00:00<00:00,  6.55it/s]\n"
     ]
    },
    {
     "name": "stdout",
     "output_type": "stream",
     "text": [
      "Epoch 50/100, train Loss: 0.0531, Acc:0.9899, F1:0.9902\n"
     ]
    },
    {
     "name": "stderr",
     "output_type": "stream",
     "text": [
      "Predicting pseudo labels: 100%|██████████| 31/31 [00:03<00:00, 10.06it/s]\n",
      "Epoch 50/100, unlabeled, alpha:1.00: 100%|██████████| 31/31 [00:03<00:00,  8.13it/s]\n"
     ]
    },
    {
     "name": "stdout",
     "output_type": "stream",
     "text": [
      "Epoch 50/100, unlabeled Loss: 0.0531, Acc:0.9899, F1:0.9902\n"
     ]
    },
    {
     "name": "stderr",
     "output_type": "stream",
     "text": [
      "Epoch 50/100, val, alpha:1.00: 100%|██████████| 4/4 [00:00<00:00, 12.02it/s]\n"
     ]
    },
    {
     "name": "stdout",
     "output_type": "stream",
     "text": [
      "Epoch 50/100, val Loss: 0.3523, Acc:0.9447, F1:0.7660\n"
     ]
    },
    {
     "name": "stderr",
     "output_type": "stream",
     "text": [
      "Epoch 51/100, train, alpha:1.00: 100%|██████████| 4/4 [00:00<00:00,  6.59it/s]\n"
     ]
    },
    {
     "name": "stdout",
     "output_type": "stream",
     "text": [
      "Epoch 51/100, train Loss: 0.0142, Acc:0.9950, F1:0.9949\n"
     ]
    },
    {
     "name": "stderr",
     "output_type": "stream",
     "text": [
      "Predicting pseudo labels: 100%|██████████| 31/31 [00:03<00:00,  9.89it/s]\n",
      "Epoch 51/100, unlabeled, alpha:1.00: 100%|██████████| 31/31 [00:03<00:00,  8.13it/s]\n"
     ]
    },
    {
     "name": "stdout",
     "output_type": "stream",
     "text": [
      "Epoch 51/100, unlabeled Loss: 0.0142, Acc:0.9950, F1:0.9949\n"
     ]
    },
    {
     "name": "stderr",
     "output_type": "stream",
     "text": [
      "Epoch 51/100, val, alpha:1.00: 100%|██████████| 4/4 [00:00<00:00, 12.27it/s]\n"
     ]
    },
    {
     "name": "stdout",
     "output_type": "stream",
     "text": [
      "Epoch 51/100, val Loss: 0.3523, Acc:0.9497, F1:0.7826\n"
     ]
    },
    {
     "name": "stderr",
     "output_type": "stream",
     "text": [
      "Epoch 52/100, train, alpha:1.00: 100%|██████████| 4/4 [00:00<00:00,  6.49it/s]\n"
     ]
    },
    {
     "name": "stdout",
     "output_type": "stream",
     "text": [
      "Epoch 52/100, train Loss: 0.0075, Acc:1.0000, F1:1.0000\n"
     ]
    },
    {
     "name": "stderr",
     "output_type": "stream",
     "text": [
      "Predicting pseudo labels: 100%|██████████| 31/31 [00:03<00:00,  9.94it/s]\n",
      "Epoch 52/100, unlabeled, alpha:1.00: 100%|██████████| 31/31 [00:03<00:00,  8.10it/s]\n"
     ]
    },
    {
     "name": "stdout",
     "output_type": "stream",
     "text": [
      "Epoch 52/100, unlabeled Loss: 0.0075, Acc:1.0000, F1:1.0000\n"
     ]
    },
    {
     "name": "stderr",
     "output_type": "stream",
     "text": [
      "Epoch 52/100, val, alpha:1.00: 100%|██████████| 4/4 [00:00<00:00, 12.06it/s]\n"
     ]
    },
    {
     "name": "stdout",
     "output_type": "stream",
     "text": [
      "Epoch 52/100, val Loss: 0.3559, Acc:0.9497, F1:0.7826\n"
     ]
    },
    {
     "name": "stderr",
     "output_type": "stream",
     "text": [
      "Epoch 53/100, train, alpha:1.00: 100%|██████████| 4/4 [00:00<00:00,  6.51it/s]\n"
     ]
    },
    {
     "name": "stdout",
     "output_type": "stream",
     "text": [
      "Epoch 53/100, train Loss: 0.0058, Acc:1.0000, F1:1.0000\n"
     ]
    },
    {
     "name": "stderr",
     "output_type": "stream",
     "text": [
      "Predicting pseudo labels: 100%|██████████| 31/31 [00:03<00:00,  9.86it/s]\n",
      "Epoch 53/100, unlabeled, alpha:1.00: 100%|██████████| 31/31 [00:03<00:00,  8.13it/s]\n"
     ]
    },
    {
     "name": "stdout",
     "output_type": "stream",
     "text": [
      "Epoch 53/100, unlabeled Loss: 0.0058, Acc:1.0000, F1:1.0000\n"
     ]
    },
    {
     "name": "stderr",
     "output_type": "stream",
     "text": [
      "Epoch 53/100, val, alpha:1.00: 100%|██████████| 4/4 [00:00<00:00, 12.64it/s]\n"
     ]
    },
    {
     "name": "stdout",
     "output_type": "stream",
     "text": [
      "Epoch 53/100, val Loss: 0.3560, Acc:0.9497, F1:0.7826\n"
     ]
    },
    {
     "name": "stderr",
     "output_type": "stream",
     "text": [
      "Epoch 54/100, train, alpha:1.00: 100%|██████████| 4/4 [00:00<00:00,  6.55it/s]\n"
     ]
    },
    {
     "name": "stdout",
     "output_type": "stream",
     "text": [
      "Epoch 54/100, train Loss: 0.0123, Acc:0.9950, F1:0.9951\n"
     ]
    },
    {
     "name": "stderr",
     "output_type": "stream",
     "text": [
      "Predicting pseudo labels: 100%|██████████| 31/31 [00:03<00:00, 10.01it/s]\n",
      "Epoch 54/100, unlabeled, alpha:1.00: 100%|██████████| 31/31 [00:03<00:00,  8.13it/s]\n"
     ]
    },
    {
     "name": "stdout",
     "output_type": "stream",
     "text": [
      "Epoch 54/100, unlabeled Loss: 0.0123, Acc:0.9950, F1:0.9951\n"
     ]
    },
    {
     "name": "stderr",
     "output_type": "stream",
     "text": [
      "Epoch 54/100, val, alpha:1.00: 100%|██████████| 4/4 [00:00<00:00, 12.34it/s]\n"
     ]
    },
    {
     "name": "stdout",
     "output_type": "stream",
     "text": [
      "Epoch 54/100, val Loss: 0.4249, Acc:0.9497, F1:0.7826\n"
     ]
    },
    {
     "name": "stderr",
     "output_type": "stream",
     "text": [
      "Epoch 55/100, train, alpha:1.00: 100%|██████████| 4/4 [00:00<00:00,  6.53it/s]\n"
     ]
    },
    {
     "name": "stdout",
     "output_type": "stream",
     "text": [
      "Epoch 55/100, train Loss: 0.0337, Acc:0.9899, F1:0.9899\n"
     ]
    },
    {
     "name": "stderr",
     "output_type": "stream",
     "text": [
      "Predicting pseudo labels: 100%|██████████| 31/31 [00:03<00:00,  9.82it/s]\n",
      "Epoch 55/100, unlabeled, alpha:1.00: 100%|██████████| 31/31 [00:03<00:00,  8.13it/s]\n"
     ]
    },
    {
     "name": "stdout",
     "output_type": "stream",
     "text": [
      "Epoch 55/100, unlabeled Loss: 0.0337, Acc:0.9899, F1:0.9899\n"
     ]
    },
    {
     "name": "stderr",
     "output_type": "stream",
     "text": [
      "Epoch 55/100, val, alpha:1.00: 100%|██████████| 4/4 [00:00<00:00, 12.18it/s]\n"
     ]
    },
    {
     "name": "stdout",
     "output_type": "stream",
     "text": [
      "Epoch 55/100, val Loss: 0.3379, Acc:0.9397, F1:0.7500\n"
     ]
    },
    {
     "name": "stderr",
     "output_type": "stream",
     "text": [
      "Epoch 56/100, train, alpha:1.00: 100%|██████████| 4/4 [00:00<00:00,  6.53it/s]\n"
     ]
    },
    {
     "name": "stdout",
     "output_type": "stream",
     "text": [
      "Epoch 56/100, train Loss: 0.0010, Acc:1.0000, F1:1.0000\n"
     ]
    },
    {
     "name": "stderr",
     "output_type": "stream",
     "text": [
      "Predicting pseudo labels: 100%|██████████| 31/31 [00:03<00:00,  9.90it/s]\n",
      "Epoch 56/100, unlabeled, alpha:1.00: 100%|██████████| 31/31 [00:03<00:00,  8.12it/s]\n"
     ]
    },
    {
     "name": "stdout",
     "output_type": "stream",
     "text": [
      "Epoch 56/100, unlabeled Loss: 0.0010, Acc:1.0000, F1:1.0000\n"
     ]
    },
    {
     "name": "stderr",
     "output_type": "stream",
     "text": [
      "Epoch 56/100, val, alpha:1.00: 100%|██████████| 4/4 [00:00<00:00, 12.15it/s]\n"
     ]
    },
    {
     "name": "stdout",
     "output_type": "stream",
     "text": [
      "Epoch 56/100, val Loss: 0.3383, Acc:0.9447, F1:0.7660\n"
     ]
    },
    {
     "name": "stderr",
     "output_type": "stream",
     "text": [
      "Epoch 57/100, train, alpha:1.00: 100%|██████████| 4/4 [00:00<00:00,  6.59it/s]\n"
     ]
    },
    {
     "name": "stdout",
     "output_type": "stream",
     "text": [
      "Epoch 57/100, train Loss: 0.0032, Acc:1.0000, F1:1.0000\n"
     ]
    },
    {
     "name": "stderr",
     "output_type": "stream",
     "text": [
      "Predicting pseudo labels: 100%|██████████| 31/31 [00:03<00:00,  9.91it/s]\n",
      "Epoch 57/100, unlabeled, alpha:1.00: 100%|██████████| 31/31 [00:03<00:00,  8.11it/s]\n"
     ]
    },
    {
     "name": "stdout",
     "output_type": "stream",
     "text": [
      "Epoch 57/100, unlabeled Loss: 0.0032, Acc:1.0000, F1:1.0000\n"
     ]
    },
    {
     "name": "stderr",
     "output_type": "stream",
     "text": [
      "Epoch 57/100, val, alpha:1.00: 100%|██████████| 4/4 [00:00<00:00, 12.74it/s]\n"
     ]
    },
    {
     "name": "stdout",
     "output_type": "stream",
     "text": [
      "Epoch 57/100, val Loss: 0.3465, Acc:0.9447, F1:0.7660\n"
     ]
    },
    {
     "name": "stderr",
     "output_type": "stream",
     "text": [
      "Epoch 58/100, train, alpha:1.00: 100%|██████████| 4/4 [00:00<00:00,  6.53it/s]\n"
     ]
    },
    {
     "name": "stdout",
     "output_type": "stream",
     "text": [
      "Epoch 58/100, train Loss: 0.0193, Acc:0.9849, F1:0.9838\n"
     ]
    },
    {
     "name": "stderr",
     "output_type": "stream",
     "text": [
      "Predicting pseudo labels: 100%|██████████| 31/31 [00:03<00:00,  9.95it/s]\n",
      "Epoch 58/100, unlabeled, alpha:1.00: 100%|██████████| 31/31 [00:03<00:00,  8.13it/s]\n"
     ]
    },
    {
     "name": "stdout",
     "output_type": "stream",
     "text": [
      "Epoch 58/100, unlabeled Loss: 0.0193, Acc:0.9849, F1:0.9838\n"
     ]
    },
    {
     "name": "stderr",
     "output_type": "stream",
     "text": [
      "Epoch 58/100, val, alpha:1.00: 100%|██████████| 4/4 [00:00<00:00, 12.17it/s]\n"
     ]
    },
    {
     "name": "stdout",
     "output_type": "stream",
     "text": [
      "Epoch 58/100, val Loss: 0.4007, Acc:0.9095, F1:0.6667\n"
     ]
    },
    {
     "name": "stderr",
     "output_type": "stream",
     "text": [
      "Epoch 59/100, train, alpha:1.00: 100%|██████████| 4/4 [00:00<00:00,  6.23it/s]\n"
     ]
    },
    {
     "name": "stdout",
     "output_type": "stream",
     "text": [
      "Epoch 59/100, train Loss: 0.0123, Acc:0.9950, F1:0.9950\n"
     ]
    },
    {
     "name": "stderr",
     "output_type": "stream",
     "text": [
      "Predicting pseudo labels: 100%|██████████| 31/31 [00:03<00:00,  9.86it/s]\n",
      "Epoch 59/100, unlabeled, alpha:1.00: 100%|██████████| 31/31 [00:03<00:00,  8.13it/s]\n"
     ]
    },
    {
     "name": "stdout",
     "output_type": "stream",
     "text": [
      "Epoch 59/100, unlabeled Loss: 0.0123, Acc:0.9950, F1:0.9950\n"
     ]
    },
    {
     "name": "stderr",
     "output_type": "stream",
     "text": [
      "Epoch 59/100, val, alpha:1.00: 100%|██████████| 4/4 [00:00<00:00, 12.49it/s]\n"
     ]
    },
    {
     "name": "stdout",
     "output_type": "stream",
     "text": [
      "Epoch 59/100, val Loss: 0.3721, Acc:0.9347, F1:0.7347\n"
     ]
    },
    {
     "name": "stderr",
     "output_type": "stream",
     "text": [
      "Epoch 60/100, train, alpha:1.00: 100%|██████████| 4/4 [00:00<00:00,  6.60it/s]\n"
     ]
    },
    {
     "name": "stdout",
     "output_type": "stream",
     "text": [
      "Epoch 60/100, train Loss: 0.0077, Acc:1.0000, F1:1.0000\n"
     ]
    },
    {
     "name": "stderr",
     "output_type": "stream",
     "text": [
      "Predicting pseudo labels: 100%|██████████| 31/31 [00:03<00:00,  9.80it/s]\n",
      "Epoch 60/100, unlabeled, alpha:1.00: 100%|██████████| 31/31 [00:03<00:00,  8.08it/s]\n"
     ]
    },
    {
     "name": "stdout",
     "output_type": "stream",
     "text": [
      "Epoch 60/100, unlabeled Loss: 0.0077, Acc:1.0000, F1:1.0000\n"
     ]
    },
    {
     "name": "stderr",
     "output_type": "stream",
     "text": [
      "Epoch 60/100, val, alpha:1.00: 100%|██████████| 4/4 [00:00<00:00, 12.38it/s]\n"
     ]
    },
    {
     "name": "stdout",
     "output_type": "stream",
     "text": [
      "Epoch 60/100, val Loss: 0.3555, Acc:0.9447, F1:0.7660\n"
     ]
    },
    {
     "name": "stderr",
     "output_type": "stream",
     "text": [
      "Epoch 61/100, train, alpha:1.00: 100%|██████████| 4/4 [00:00<00:00,  6.61it/s]\n"
     ]
    },
    {
     "name": "stdout",
     "output_type": "stream",
     "text": [
      "Epoch 61/100, train Loss: 0.0381, Acc:0.9899, F1:0.9891\n"
     ]
    },
    {
     "name": "stderr",
     "output_type": "stream",
     "text": [
      "Predicting pseudo labels: 100%|██████████| 31/31 [00:03<00:00,  9.84it/s]\n",
      "Epoch 61/100, unlabeled, alpha:1.00: 100%|██████████| 31/31 [00:03<00:00,  8.13it/s]\n"
     ]
    },
    {
     "name": "stdout",
     "output_type": "stream",
     "text": [
      "Epoch 61/100, unlabeled Loss: 0.0381, Acc:0.9899, F1:0.9891\n"
     ]
    },
    {
     "name": "stderr",
     "output_type": "stream",
     "text": [
      "Epoch 61/100, val, alpha:1.00: 100%|██████████| 4/4 [00:00<00:00, 12.24it/s]\n"
     ]
    },
    {
     "name": "stdout",
     "output_type": "stream",
     "text": [
      "Epoch 61/100, val Loss: 0.3902, Acc:0.9447, F1:0.7442\n"
     ]
    },
    {
     "name": "stderr",
     "output_type": "stream",
     "text": [
      "Epoch 62/100, train, alpha:1.00: 100%|██████████| 4/4 [00:00<00:00,  6.57it/s]\n"
     ]
    },
    {
     "name": "stdout",
     "output_type": "stream",
     "text": [
      "Epoch 62/100, train Loss: 0.0387, Acc:0.9899, F1:0.9900\n"
     ]
    },
    {
     "name": "stderr",
     "output_type": "stream",
     "text": [
      "Predicting pseudo labels: 100%|██████████| 31/31 [00:03<00:00,  9.89it/s]\n",
      "Epoch 62/100, unlabeled, alpha:1.00: 100%|██████████| 31/31 [00:03<00:00,  8.11it/s]\n"
     ]
    },
    {
     "name": "stdout",
     "output_type": "stream",
     "text": [
      "Epoch 62/100, unlabeled Loss: 0.0387, Acc:0.9899, F1:0.9900\n"
     ]
    },
    {
     "name": "stderr",
     "output_type": "stream",
     "text": [
      "Epoch 62/100, val, alpha:1.00: 100%|██████████| 4/4 [00:00<00:00, 12.35it/s]\n"
     ]
    },
    {
     "name": "stdout",
     "output_type": "stream",
     "text": [
      "Epoch 62/100, val Loss: 0.3649, Acc:0.9497, F1:0.7727\n"
     ]
    },
    {
     "name": "stderr",
     "output_type": "stream",
     "text": [
      "Epoch 63/100, train, alpha:1.00: 100%|██████████| 4/4 [00:00<00:00,  6.61it/s]\n"
     ]
    },
    {
     "name": "stdout",
     "output_type": "stream",
     "text": [
      "Epoch 63/100, train Loss: 0.0260, Acc:0.9950, F1:0.9950\n"
     ]
    },
    {
     "name": "stderr",
     "output_type": "stream",
     "text": [
      "Predicting pseudo labels: 100%|██████████| 31/31 [00:03<00:00, 10.09it/s]\n",
      "Epoch 63/100, unlabeled, alpha:1.00: 100%|██████████| 31/31 [00:03<00:00,  8.12it/s]\n"
     ]
    },
    {
     "name": "stdout",
     "output_type": "stream",
     "text": [
      "Epoch 63/100, unlabeled Loss: 0.0260, Acc:0.9950, F1:0.9950\n"
     ]
    },
    {
     "name": "stderr",
     "output_type": "stream",
     "text": [
      "Epoch 63/100, val, alpha:1.00: 100%|██████████| 4/4 [00:00<00:00, 12.34it/s]\n"
     ]
    },
    {
     "name": "stdout",
     "output_type": "stream",
     "text": [
      "Epoch 63/100, val Loss: 0.3856, Acc:0.9497, F1:0.7727\n"
     ]
    },
    {
     "name": "stderr",
     "output_type": "stream",
     "text": [
      "Epoch 64/100, train, alpha:1.00: 100%|██████████| 4/4 [00:00<00:00,  6.57it/s]\n"
     ]
    },
    {
     "name": "stdout",
     "output_type": "stream",
     "text": [
      "Epoch 64/100, train Loss: 0.0102, Acc:1.0000, F1:1.0000\n"
     ]
    },
    {
     "name": "stderr",
     "output_type": "stream",
     "text": [
      "Predicting pseudo labels: 100%|██████████| 31/31 [00:03<00:00,  9.93it/s]\n",
      "Epoch 64/100, unlabeled, alpha:1.00: 100%|██████████| 31/31 [00:03<00:00,  8.14it/s]\n"
     ]
    },
    {
     "name": "stdout",
     "output_type": "stream",
     "text": [
      "Epoch 64/100, unlabeled Loss: 0.0102, Acc:1.0000, F1:1.0000\n"
     ]
    },
    {
     "name": "stderr",
     "output_type": "stream",
     "text": [
      "Epoch 64/100, val, alpha:1.00: 100%|██████████| 4/4 [00:00<00:00, 12.66it/s]\n"
     ]
    },
    {
     "name": "stdout",
     "output_type": "stream",
     "text": [
      "Epoch 64/100, val Loss: 0.3959, Acc:0.9497, F1:0.7727\n"
     ]
    },
    {
     "name": "stderr",
     "output_type": "stream",
     "text": [
      "Epoch 65/100, train, alpha:1.00: 100%|██████████| 4/4 [00:00<00:00,  6.69it/s]\n"
     ]
    },
    {
     "name": "stdout",
     "output_type": "stream",
     "text": [
      "Epoch 65/100, train Loss: 0.0165, Acc:1.0000, F1:1.0000\n"
     ]
    },
    {
     "name": "stderr",
     "output_type": "stream",
     "text": [
      "Predicting pseudo labels: 100%|██████████| 31/31 [00:03<00:00,  9.98it/s]\n",
      "Epoch 65/100, unlabeled, alpha:1.00: 100%|██████████| 31/31 [00:03<00:00,  8.05it/s]\n"
     ]
    },
    {
     "name": "stdout",
     "output_type": "stream",
     "text": [
      "Epoch 65/100, unlabeled Loss: 0.0165, Acc:1.0000, F1:1.0000\n"
     ]
    },
    {
     "name": "stderr",
     "output_type": "stream",
     "text": [
      "Epoch 65/100, val, alpha:1.00: 100%|██████████| 4/4 [00:00<00:00, 12.24it/s]\n"
     ]
    },
    {
     "name": "stdout",
     "output_type": "stream",
     "text": [
      "Epoch 65/100, val Loss: 0.3806, Acc:0.9497, F1:0.7727\n"
     ]
    },
    {
     "name": "stderr",
     "output_type": "stream",
     "text": [
      "Epoch 66/100, train, alpha:1.00: 100%|██████████| 4/4 [00:00<00:00,  6.10it/s]\n"
     ]
    },
    {
     "name": "stdout",
     "output_type": "stream",
     "text": [
      "Epoch 66/100, train Loss: 0.0205, Acc:0.9950, F1:0.9955\n"
     ]
    },
    {
     "name": "stderr",
     "output_type": "stream",
     "text": [
      "Predicting pseudo labels: 100%|██████████| 31/31 [00:03<00:00, 10.04it/s]\n",
      "Epoch 66/100, unlabeled, alpha:1.00: 100%|██████████| 31/31 [00:03<00:00,  8.13it/s]\n"
     ]
    },
    {
     "name": "stdout",
     "output_type": "stream",
     "text": [
      "Epoch 66/100, unlabeled Loss: 0.0205, Acc:0.9950, F1:0.9955\n"
     ]
    },
    {
     "name": "stderr",
     "output_type": "stream",
     "text": [
      "Epoch 66/100, val, alpha:1.00: 100%|██████████| 4/4 [00:00<00:00, 12.59it/s]\n"
     ]
    },
    {
     "name": "stdout",
     "output_type": "stream",
     "text": [
      "Epoch 66/100, val Loss: 0.3861, Acc:0.9497, F1:0.7727\n"
     ]
    },
    {
     "name": "stderr",
     "output_type": "stream",
     "text": [
      "Epoch 67/100, train, alpha:1.00: 100%|██████████| 4/4 [00:00<00:00,  6.63it/s]\n"
     ]
    },
    {
     "name": "stdout",
     "output_type": "stream",
     "text": [
      "Epoch 67/100, train Loss: 0.0181, Acc:1.0000, F1:1.0000\n"
     ]
    },
    {
     "name": "stderr",
     "output_type": "stream",
     "text": [
      "Predicting pseudo labels: 100%|██████████| 31/31 [00:03<00:00, 10.04it/s]\n",
      "Epoch 67/100, unlabeled, alpha:1.00: 100%|██████████| 31/31 [00:03<00:00,  8.12it/s]\n"
     ]
    },
    {
     "name": "stdout",
     "output_type": "stream",
     "text": [
      "Epoch 67/100, unlabeled Loss: 0.0181, Acc:1.0000, F1:1.0000\n"
     ]
    },
    {
     "name": "stderr",
     "output_type": "stream",
     "text": [
      "Epoch 67/100, val, alpha:1.00: 100%|██████████| 4/4 [00:00<00:00, 12.62it/s]\n"
     ]
    },
    {
     "name": "stdout",
     "output_type": "stream",
     "text": [
      "Epoch 67/100, val Loss: 0.3876, Acc:0.9497, F1:0.7727\n"
     ]
    },
    {
     "name": "stderr",
     "output_type": "stream",
     "text": [
      "Epoch 68/100, train, alpha:1.00: 100%|██████████| 4/4 [00:00<00:00,  6.61it/s]\n"
     ]
    },
    {
     "name": "stdout",
     "output_type": "stream",
     "text": [
      "Epoch 68/100, train Loss: 0.0073, Acc:1.0000, F1:1.0000\n"
     ]
    },
    {
     "name": "stderr",
     "output_type": "stream",
     "text": [
      "Predicting pseudo labels: 100%|██████████| 31/31 [00:03<00:00, 10.17it/s]\n",
      "Epoch 68/100, unlabeled, alpha:1.00: 100%|██████████| 31/31 [00:03<00:00,  8.12it/s]\n"
     ]
    },
    {
     "name": "stdout",
     "output_type": "stream",
     "text": [
      "Epoch 68/100, unlabeled Loss: 0.0073, Acc:1.0000, F1:1.0000\n"
     ]
    },
    {
     "name": "stderr",
     "output_type": "stream",
     "text": [
      "Epoch 68/100, val, alpha:1.00: 100%|██████████| 4/4 [00:00<00:00, 12.65it/s]\n"
     ]
    },
    {
     "name": "stdout",
     "output_type": "stream",
     "text": [
      "Epoch 68/100, val Loss: 0.4018, Acc:0.9497, F1:0.7727\n"
     ]
    },
    {
     "name": "stderr",
     "output_type": "stream",
     "text": [
      "Epoch 69/100, train, alpha:1.00: 100%|██████████| 4/4 [00:00<00:00,  6.59it/s]\n"
     ]
    },
    {
     "name": "stdout",
     "output_type": "stream",
     "text": [
      "Epoch 69/100, train Loss: 0.0095, Acc:0.9950, F1:0.9947\n"
     ]
    },
    {
     "name": "stderr",
     "output_type": "stream",
     "text": [
      "Predicting pseudo labels: 100%|██████████| 31/31 [00:03<00:00, 10.10it/s]\n",
      "Epoch 69/100, unlabeled, alpha:1.00: 100%|██████████| 31/31 [00:03<00:00,  8.12it/s]\n"
     ]
    },
    {
     "name": "stdout",
     "output_type": "stream",
     "text": [
      "Epoch 69/100, unlabeled Loss: 0.0095, Acc:0.9950, F1:0.9947\n"
     ]
    },
    {
     "name": "stderr",
     "output_type": "stream",
     "text": [
      "Epoch 69/100, val, alpha:1.00: 100%|██████████| 4/4 [00:00<00:00, 12.44it/s]\n"
     ]
    },
    {
     "name": "stdout",
     "output_type": "stream",
     "text": [
      "Epoch 69/100, val Loss: 0.3943, Acc:0.9347, F1:0.7234\n"
     ]
    },
    {
     "name": "stderr",
     "output_type": "stream",
     "text": [
      "Epoch 70/100, train, alpha:1.00: 100%|██████████| 4/4 [00:00<00:00,  6.69it/s]\n"
     ]
    },
    {
     "name": "stdout",
     "output_type": "stream",
     "text": [
      "Epoch 70/100, train Loss: 0.0153, Acc:0.9899, F1:0.9904\n"
     ]
    },
    {
     "name": "stderr",
     "output_type": "stream",
     "text": [
      "Predicting pseudo labels: 100%|██████████| 31/31 [00:03<00:00,  9.94it/s]\n",
      "Epoch 70/100, unlabeled, alpha:1.00: 100%|██████████| 31/31 [00:03<00:00,  8.12it/s]\n"
     ]
    },
    {
     "name": "stdout",
     "output_type": "stream",
     "text": [
      "Epoch 70/100, unlabeled Loss: 0.0153, Acc:0.9899, F1:0.9904\n"
     ]
    },
    {
     "name": "stderr",
     "output_type": "stream",
     "text": [
      "Epoch 70/100, val, alpha:1.00: 100%|██████████| 4/4 [00:00<00:00, 12.37it/s]\n"
     ]
    },
    {
     "name": "stdout",
     "output_type": "stream",
     "text": [
      "Epoch 70/100, val Loss: 0.3628, Acc:0.9447, F1:0.7556\n"
     ]
    },
    {
     "name": "stderr",
     "output_type": "stream",
     "text": [
      "Epoch 71/100, train, alpha:1.00: 100%|██████████| 4/4 [00:00<00:00,  6.64it/s]\n"
     ]
    },
    {
     "name": "stdout",
     "output_type": "stream",
     "text": [
      "Epoch 71/100, train Loss: 0.0030, Acc:1.0000, F1:1.0000\n"
     ]
    },
    {
     "name": "stderr",
     "output_type": "stream",
     "text": [
      "Predicting pseudo labels: 100%|██████████| 31/31 [00:03<00:00,  9.88it/s]\n",
      "Epoch 71/100, unlabeled, alpha:1.00: 100%|██████████| 31/31 [00:03<00:00,  8.13it/s]\n"
     ]
    },
    {
     "name": "stdout",
     "output_type": "stream",
     "text": [
      "Epoch 71/100, unlabeled Loss: 0.0030, Acc:1.0000, F1:1.0000\n"
     ]
    },
    {
     "name": "stderr",
     "output_type": "stream",
     "text": [
      "Epoch 71/100, val, alpha:1.00: 100%|██████████| 4/4 [00:00<00:00, 12.24it/s]\n"
     ]
    },
    {
     "name": "stdout",
     "output_type": "stream",
     "text": [
      "Epoch 71/100, val Loss: 0.3396, Acc:0.9447, F1:0.7556\n"
     ]
    },
    {
     "name": "stderr",
     "output_type": "stream",
     "text": [
      "Epoch 72/100, train, alpha:1.00: 100%|██████████| 4/4 [00:00<00:00,  6.24it/s]\n"
     ]
    },
    {
     "name": "stdout",
     "output_type": "stream",
     "text": [
      "Epoch 72/100, train Loss: 0.0052, Acc:1.0000, F1:1.0000\n"
     ]
    },
    {
     "name": "stderr",
     "output_type": "stream",
     "text": [
      "Predicting pseudo labels: 100%|██████████| 31/31 [00:03<00:00,  9.82it/s]\n",
      "Epoch 72/100, unlabeled, alpha:1.00: 100%|██████████| 31/31 [00:03<00:00,  8.14it/s]\n"
     ]
    },
    {
     "name": "stdout",
     "output_type": "stream",
     "text": [
      "Epoch 72/100, unlabeled Loss: 0.0052, Acc:1.0000, F1:1.0000\n"
     ]
    },
    {
     "name": "stderr",
     "output_type": "stream",
     "text": [
      "Epoch 72/100, val, alpha:1.00: 100%|██████████| 4/4 [00:00<00:00, 12.60it/s]\n"
     ]
    },
    {
     "name": "stdout",
     "output_type": "stream",
     "text": [
      "Epoch 72/100, val Loss: 0.3454, Acc:0.9447, F1:0.7556\n"
     ]
    },
    {
     "name": "stderr",
     "output_type": "stream",
     "text": [
      "Epoch 73/100, train, alpha:1.00: 100%|██████████| 4/4 [00:00<00:00,  6.53it/s]\n"
     ]
    },
    {
     "name": "stdout",
     "output_type": "stream",
     "text": [
      "Epoch 73/100, train Loss: 0.0041, Acc:1.0000, F1:1.0000\n"
     ]
    },
    {
     "name": "stderr",
     "output_type": "stream",
     "text": [
      "Predicting pseudo labels: 100%|██████████| 31/31 [00:03<00:00,  9.80it/s]\n",
      "Epoch 73/100, unlabeled, alpha:1.00: 100%|██████████| 31/31 [00:03<00:00,  8.14it/s]\n"
     ]
    },
    {
     "name": "stdout",
     "output_type": "stream",
     "text": [
      "Epoch 73/100, unlabeled Loss: 0.0041, Acc:1.0000, F1:1.0000\n"
     ]
    },
    {
     "name": "stderr",
     "output_type": "stream",
     "text": [
      "Epoch 73/100, val, alpha:1.00: 100%|██████████| 4/4 [00:00<00:00, 12.18it/s]\n"
     ]
    },
    {
     "name": "stdout",
     "output_type": "stream",
     "text": [
      "Epoch 73/100, val Loss: 0.3428, Acc:0.9447, F1:0.7556\n"
     ]
    },
    {
     "name": "stderr",
     "output_type": "stream",
     "text": [
      "Epoch 74/100, train, alpha:1.00: 100%|██████████| 4/4 [00:00<00:00,  6.70it/s]\n"
     ]
    },
    {
     "name": "stdout",
     "output_type": "stream",
     "text": [
      "Epoch 74/100, train Loss: 0.0046, Acc:1.0000, F1:1.0000\n"
     ]
    },
    {
     "name": "stderr",
     "output_type": "stream",
     "text": [
      "Predicting pseudo labels: 100%|██████████| 31/31 [00:03<00:00, 10.10it/s]\n",
      "Epoch 74/100, unlabeled, alpha:1.00: 100%|██████████| 31/31 [00:03<00:00,  8.12it/s]\n"
     ]
    },
    {
     "name": "stdout",
     "output_type": "stream",
     "text": [
      "Epoch 74/100, unlabeled Loss: 0.0046, Acc:1.0000, F1:1.0000\n"
     ]
    },
    {
     "name": "stderr",
     "output_type": "stream",
     "text": [
      "Epoch 74/100, val, alpha:1.00: 100%|██████████| 4/4 [00:00<00:00, 12.08it/s]\n"
     ]
    },
    {
     "name": "stdout",
     "output_type": "stream",
     "text": [
      "Epoch 74/100, val Loss: 0.3475, Acc:0.9447, F1:0.7556\n"
     ]
    },
    {
     "name": "stderr",
     "output_type": "stream",
     "text": [
      "Epoch 75/100, train, alpha:1.00: 100%|██████████| 4/4 [00:00<00:00,  6.62it/s]\n"
     ]
    },
    {
     "name": "stdout",
     "output_type": "stream",
     "text": [
      "Epoch 75/100, train Loss: 0.0358, Acc:0.9950, F1:0.9950\n"
     ]
    },
    {
     "name": "stderr",
     "output_type": "stream",
     "text": [
      "Predicting pseudo labels: 100%|██████████| 31/31 [00:03<00:00,  9.94it/s]\n",
      "Epoch 75/100, unlabeled, alpha:1.00: 100%|██████████| 31/31 [00:03<00:00,  8.12it/s]\n"
     ]
    },
    {
     "name": "stdout",
     "output_type": "stream",
     "text": [
      "Epoch 75/100, unlabeled Loss: 0.0358, Acc:0.9950, F1:0.9950\n"
     ]
    },
    {
     "name": "stderr",
     "output_type": "stream",
     "text": [
      "Epoch 75/100, val, alpha:1.00: 100%|██████████| 4/4 [00:00<00:00, 12.35it/s]\n"
     ]
    },
    {
     "name": "stdout",
     "output_type": "stream",
     "text": [
      "Epoch 75/100, val Loss: 0.3561, Acc:0.9497, F1:0.7826\n"
     ]
    },
    {
     "name": "stderr",
     "output_type": "stream",
     "text": [
      "Epoch 76/100, train, alpha:1.00: 100%|██████████| 4/4 [00:00<00:00,  6.60it/s]\n"
     ]
    },
    {
     "name": "stdout",
     "output_type": "stream",
     "text": [
      "Epoch 76/100, train Loss: 0.0206, Acc:0.9950, F1:0.9953\n"
     ]
    },
    {
     "name": "stderr",
     "output_type": "stream",
     "text": [
      "Predicting pseudo labels: 100%|██████████| 31/31 [00:03<00:00,  9.99it/s]\n",
      "Epoch 76/100, unlabeled, alpha:1.00: 100%|██████████| 31/31 [00:03<00:00,  8.13it/s]\n"
     ]
    },
    {
     "name": "stdout",
     "output_type": "stream",
     "text": [
      "Epoch 76/100, unlabeled Loss: 0.0206, Acc:0.9950, F1:0.9953\n"
     ]
    },
    {
     "name": "stderr",
     "output_type": "stream",
     "text": [
      "Epoch 76/100, val, alpha:1.00: 100%|██████████| 4/4 [00:00<00:00, 12.53it/s]\n"
     ]
    },
    {
     "name": "stdout",
     "output_type": "stream",
     "text": [
      "Epoch 76/100, val Loss: 0.3539, Acc:0.9497, F1:0.7826\n"
     ]
    },
    {
     "name": "stderr",
     "output_type": "stream",
     "text": [
      "Epoch 77/100, train, alpha:1.00: 100%|██████████| 4/4 [00:00<00:00,  6.19it/s]\n"
     ]
    },
    {
     "name": "stdout",
     "output_type": "stream",
     "text": [
      "Epoch 77/100, train Loss: 0.0264, Acc:0.9849, F1:0.9851\n"
     ]
    },
    {
     "name": "stderr",
     "output_type": "stream",
     "text": [
      "Predicting pseudo labels: 100%|██████████| 31/31 [00:03<00:00,  9.83it/s]\n",
      "Epoch 77/100, unlabeled, alpha:1.00: 100%|██████████| 31/31 [00:03<00:00,  8.11it/s]\n"
     ]
    },
    {
     "name": "stdout",
     "output_type": "stream",
     "text": [
      "Epoch 77/100, unlabeled Loss: 0.0264, Acc:0.9849, F1:0.9851\n"
     ]
    },
    {
     "name": "stderr",
     "output_type": "stream",
     "text": [
      "Epoch 77/100, val, alpha:1.00: 100%|██████████| 4/4 [00:00<00:00, 11.06it/s]\n"
     ]
    },
    {
     "name": "stdout",
     "output_type": "stream",
     "text": [
      "Epoch 77/100, val Loss: 0.3759, Acc:0.9548, F1:0.8000\n"
     ]
    },
    {
     "name": "stderr",
     "output_type": "stream",
     "text": [
      "Epoch 78/100, train, alpha:1.00: 100%|██████████| 4/4 [00:00<00:00,  6.46it/s]\n"
     ]
    },
    {
     "name": "stdout",
     "output_type": "stream",
     "text": [
      "Epoch 78/100, train Loss: 0.0084, Acc:0.9950, F1:0.9947\n"
     ]
    },
    {
     "name": "stderr",
     "output_type": "stream",
     "text": [
      "Predicting pseudo labels: 100%|██████████| 31/31 [00:03<00:00,  9.80it/s]\n",
      "Epoch 78/100, unlabeled, alpha:1.00: 100%|██████████| 31/31 [00:03<00:00,  8.10it/s]\n"
     ]
    },
    {
     "name": "stdout",
     "output_type": "stream",
     "text": [
      "Epoch 78/100, unlabeled Loss: 0.0084, Acc:0.9950, F1:0.9947\n"
     ]
    },
    {
     "name": "stderr",
     "output_type": "stream",
     "text": [
      "Epoch 78/100, val, alpha:1.00: 100%|██████████| 4/4 [00:00<00:00, 12.10it/s]\n"
     ]
    },
    {
     "name": "stdout",
     "output_type": "stream",
     "text": [
      "Epoch 78/100, val Loss: 0.3645, Acc:0.9548, F1:0.8000\n"
     ]
    },
    {
     "name": "stderr",
     "output_type": "stream",
     "text": [
      "Epoch 79/100, train, alpha:1.00: 100%|██████████| 4/4 [00:00<00:00,  6.51it/s]\n"
     ]
    },
    {
     "name": "stdout",
     "output_type": "stream",
     "text": [
      "Epoch 79/100, train Loss: 0.0150, Acc:0.9950, F1:0.9949\n"
     ]
    },
    {
     "name": "stderr",
     "output_type": "stream",
     "text": [
      "Predicting pseudo labels: 100%|██████████| 31/31 [00:03<00:00,  9.75it/s]\n",
      "Epoch 79/100, unlabeled, alpha:1.00: 100%|██████████| 31/31 [00:03<00:00,  8.10it/s]\n"
     ]
    },
    {
     "name": "stdout",
     "output_type": "stream",
     "text": [
      "Epoch 79/100, unlabeled Loss: 0.0150, Acc:0.9950, F1:0.9949\n"
     ]
    },
    {
     "name": "stderr",
     "output_type": "stream",
     "text": [
      "Epoch 79/100, val, alpha:1.00: 100%|██████████| 4/4 [00:00<00:00, 12.43it/s]\n"
     ]
    },
    {
     "name": "stdout",
     "output_type": "stream",
     "text": [
      "Epoch 79/100, val Loss: 0.3820, Acc:0.9548, F1:0.8000\n"
     ]
    },
    {
     "name": "stderr",
     "output_type": "stream",
     "text": [
      "Epoch 80/100, train, alpha:1.00: 100%|██████████| 4/4 [00:00<00:00,  6.56it/s]\n"
     ]
    },
    {
     "name": "stdout",
     "output_type": "stream",
     "text": [
      "Epoch 80/100, train Loss: 0.0074, Acc:0.9950, F1:0.9956\n"
     ]
    },
    {
     "name": "stderr",
     "output_type": "stream",
     "text": [
      "Predicting pseudo labels: 100%|██████████| 31/31 [00:03<00:00,  9.89it/s]\n",
      "Epoch 80/100, unlabeled, alpha:1.00: 100%|██████████| 31/31 [00:03<00:00,  8.12it/s]\n"
     ]
    },
    {
     "name": "stdout",
     "output_type": "stream",
     "text": [
      "Epoch 80/100, unlabeled Loss: 0.0074, Acc:0.9950, F1:0.9956\n"
     ]
    },
    {
     "name": "stderr",
     "output_type": "stream",
     "text": [
      "Epoch 80/100, val, alpha:1.00: 100%|██████████| 4/4 [00:00<00:00, 12.29it/s]\n"
     ]
    },
    {
     "name": "stdout",
     "output_type": "stream",
     "text": [
      "Epoch 80/100, val Loss: 0.3827, Acc:0.9548, F1:0.8000\n"
     ]
    },
    {
     "name": "stderr",
     "output_type": "stream",
     "text": [
      "Epoch 81/100, train, alpha:1.00: 100%|██████████| 4/4 [00:00<00:00,  6.54it/s]\n"
     ]
    },
    {
     "name": "stdout",
     "output_type": "stream",
     "text": [
      "Epoch 81/100, train Loss: 0.0034, Acc:1.0000, F1:1.0000\n"
     ]
    },
    {
     "name": "stderr",
     "output_type": "stream",
     "text": [
      "Predicting pseudo labels: 100%|██████████| 31/31 [00:03<00:00, 10.09it/s]\n",
      "Epoch 81/100, unlabeled, alpha:1.00: 100%|██████████| 31/31 [00:03<00:00,  8.12it/s]\n"
     ]
    },
    {
     "name": "stdout",
     "output_type": "stream",
     "text": [
      "Epoch 81/100, unlabeled Loss: 0.0034, Acc:1.0000, F1:1.0000\n"
     ]
    },
    {
     "name": "stderr",
     "output_type": "stream",
     "text": [
      "Epoch 81/100, val, alpha:1.00: 100%|██████████| 4/4 [00:00<00:00, 12.29it/s]\n"
     ]
    },
    {
     "name": "stdout",
     "output_type": "stream",
     "text": [
      "Epoch 81/100, val Loss: 0.3743, Acc:0.9548, F1:0.8000\n"
     ]
    },
    {
     "name": "stderr",
     "output_type": "stream",
     "text": [
      "Epoch 82/100, train, alpha:1.00: 100%|██████████| 4/4 [00:00<00:00,  6.58it/s]\n"
     ]
    },
    {
     "name": "stdout",
     "output_type": "stream",
     "text": [
      "Epoch 82/100, train Loss: 0.0043, Acc:1.0000, F1:1.0000\n"
     ]
    },
    {
     "name": "stderr",
     "output_type": "stream",
     "text": [
      "Predicting pseudo labels: 100%|██████████| 31/31 [00:03<00:00,  9.84it/s]\n",
      "Epoch 82/100, unlabeled, alpha:1.00: 100%|██████████| 31/31 [00:03<00:00,  8.12it/s]\n"
     ]
    },
    {
     "name": "stdout",
     "output_type": "stream",
     "text": [
      "Epoch 82/100, unlabeled Loss: 0.0043, Acc:1.0000, F1:1.0000\n"
     ]
    },
    {
     "name": "stderr",
     "output_type": "stream",
     "text": [
      "Epoch 82/100, val, alpha:1.00: 100%|██████████| 4/4 [00:00<00:00, 11.97it/s]\n"
     ]
    },
    {
     "name": "stdout",
     "output_type": "stream",
     "text": [
      "Epoch 82/100, val Loss: 0.3773, Acc:0.9548, F1:0.8000\n"
     ]
    },
    {
     "name": "stderr",
     "output_type": "stream",
     "text": [
      "Epoch 83/100, train, alpha:1.00: 100%|██████████| 4/4 [00:00<00:00,  6.60it/s]\n"
     ]
    },
    {
     "name": "stdout",
     "output_type": "stream",
     "text": [
      "Epoch 83/100, train Loss: 0.0023, Acc:1.0000, F1:1.0000\n"
     ]
    },
    {
     "name": "stderr",
     "output_type": "stream",
     "text": [
      "Predicting pseudo labels: 100%|██████████| 31/31 [00:03<00:00,  9.74it/s]\n",
      "Epoch 83/100, unlabeled, alpha:1.00: 100%|██████████| 31/31 [00:03<00:00,  8.12it/s]\n"
     ]
    },
    {
     "name": "stdout",
     "output_type": "stream",
     "text": [
      "Epoch 83/100, unlabeled Loss: 0.0023, Acc:1.0000, F1:1.0000\n"
     ]
    },
    {
     "name": "stderr",
     "output_type": "stream",
     "text": [
      "Epoch 83/100, val, alpha:1.00: 100%|██████████| 4/4 [00:00<00:00, 11.90it/s]\n"
     ]
    },
    {
     "name": "stdout",
     "output_type": "stream",
     "text": [
      "Epoch 83/100, val Loss: 0.3683, Acc:0.9548, F1:0.8000\n"
     ]
    },
    {
     "name": "stderr",
     "output_type": "stream",
     "text": [
      "Epoch 84/100, train, alpha:1.00: 100%|██████████| 4/4 [00:00<00:00,  6.10it/s]\n"
     ]
    },
    {
     "name": "stdout",
     "output_type": "stream",
     "text": [
      "Epoch 84/100, train Loss: 0.0015, Acc:1.0000, F1:1.0000\n"
     ]
    },
    {
     "name": "stderr",
     "output_type": "stream",
     "text": [
      "Predicting pseudo labels: 100%|██████████| 31/31 [00:03<00:00,  9.85it/s]\n",
      "Epoch 84/100, unlabeled, alpha:1.00: 100%|██████████| 31/31 [00:03<00:00,  8.11it/s]\n"
     ]
    },
    {
     "name": "stdout",
     "output_type": "stream",
     "text": [
      "Epoch 84/100, unlabeled Loss: 0.0015, Acc:1.0000, F1:1.0000\n"
     ]
    },
    {
     "name": "stderr",
     "output_type": "stream",
     "text": [
      "Epoch 84/100, val, alpha:1.00: 100%|██████████| 4/4 [00:00<00:00, 12.70it/s]\n"
     ]
    },
    {
     "name": "stdout",
     "output_type": "stream",
     "text": [
      "Epoch 84/100, val Loss: 0.3777, Acc:0.9548, F1:0.8000\n"
     ]
    },
    {
     "name": "stderr",
     "output_type": "stream",
     "text": [
      "Epoch 85/100, train, alpha:1.00: 100%|██████████| 4/4 [00:00<00:00,  6.51it/s]\n"
     ]
    },
    {
     "name": "stdout",
     "output_type": "stream",
     "text": [
      "Epoch 85/100, train Loss: 0.0034, Acc:1.0000, F1:1.0000\n"
     ]
    },
    {
     "name": "stderr",
     "output_type": "stream",
     "text": [
      "Predicting pseudo labels: 100%|██████████| 31/31 [00:03<00:00,  9.83it/s]\n",
      "Epoch 85/100, unlabeled, alpha:1.00: 100%|██████████| 31/31 [00:03<00:00,  8.12it/s]\n"
     ]
    },
    {
     "name": "stdout",
     "output_type": "stream",
     "text": [
      "Epoch 85/100, unlabeled Loss: 0.0034, Acc:1.0000, F1:1.0000\n"
     ]
    },
    {
     "name": "stderr",
     "output_type": "stream",
     "text": [
      "Epoch 85/100, val, alpha:1.00: 100%|██████████| 4/4 [00:00<00:00, 12.54it/s]\n"
     ]
    },
    {
     "name": "stdout",
     "output_type": "stream",
     "text": [
      "Epoch 85/100, val Loss: 0.3810, Acc:0.9548, F1:0.8000\n"
     ]
    },
    {
     "name": "stderr",
     "output_type": "stream",
     "text": [
      "Epoch 86/100, train, alpha:1.00: 100%|██████████| 4/4 [00:00<00:00,  6.58it/s]\n"
     ]
    },
    {
     "name": "stdout",
     "output_type": "stream",
     "text": [
      "Epoch 86/100, train Loss: 0.0024, Acc:1.0000, F1:1.0000\n"
     ]
    },
    {
     "name": "stderr",
     "output_type": "stream",
     "text": [
      "Predicting pseudo labels: 100%|██████████| 31/31 [00:03<00:00, 10.13it/s]\n",
      "Epoch 86/100, unlabeled, alpha:1.00: 100%|██████████| 31/31 [00:03<00:00,  8.14it/s]\n"
     ]
    },
    {
     "name": "stdout",
     "output_type": "stream",
     "text": [
      "Epoch 86/100, unlabeled Loss: 0.0024, Acc:1.0000, F1:1.0000\n"
     ]
    },
    {
     "name": "stderr",
     "output_type": "stream",
     "text": [
      "Epoch 86/100, val, alpha:1.00: 100%|██████████| 4/4 [00:00<00:00, 12.82it/s]\n"
     ]
    },
    {
     "name": "stdout",
     "output_type": "stream",
     "text": [
      "Epoch 86/100, val Loss: 0.3777, Acc:0.9548, F1:0.8000\n"
     ]
    },
    {
     "name": "stderr",
     "output_type": "stream",
     "text": [
      "Epoch 87/100, train, alpha:1.00: 100%|██████████| 4/4 [00:00<00:00,  6.57it/s]\n"
     ]
    },
    {
     "name": "stdout",
     "output_type": "stream",
     "text": [
      "Epoch 87/100, train Loss: 0.0027, Acc:1.0000, F1:1.0000\n"
     ]
    },
    {
     "name": "stderr",
     "output_type": "stream",
     "text": [
      "Predicting pseudo labels: 100%|██████████| 31/31 [00:02<00:00, 10.62it/s]\n",
      "Epoch 87/100, unlabeled, alpha:1.00: 100%|██████████| 31/31 [00:03<00:00,  8.12it/s]\n"
     ]
    },
    {
     "name": "stdout",
     "output_type": "stream",
     "text": [
      "Epoch 87/100, unlabeled Loss: 0.0027, Acc:1.0000, F1:1.0000\n"
     ]
    },
    {
     "name": "stderr",
     "output_type": "stream",
     "text": [
      "Epoch 87/100, val, alpha:1.00: 100%|██████████| 4/4 [00:00<00:00, 12.62it/s]\n"
     ]
    },
    {
     "name": "stdout",
     "output_type": "stream",
     "text": [
      "Epoch 87/100, val Loss: 0.3886, Acc:0.9548, F1:0.8000\n"
     ]
    },
    {
     "name": "stderr",
     "output_type": "stream",
     "text": [
      "Epoch 88/100, train, alpha:1.00: 100%|██████████| 4/4 [00:00<00:00,  6.58it/s]\n"
     ]
    },
    {
     "name": "stdout",
     "output_type": "stream",
     "text": [
      "Epoch 88/100, train Loss: 0.0014, Acc:1.0000, F1:1.0000\n"
     ]
    },
    {
     "name": "stderr",
     "output_type": "stream",
     "text": [
      "Predicting pseudo labels: 100%|██████████| 31/31 [00:03<00:00,  9.91it/s]\n",
      "Epoch 88/100, unlabeled, alpha:1.00: 100%|██████████| 31/31 [00:03<00:00,  8.13it/s]\n"
     ]
    },
    {
     "name": "stdout",
     "output_type": "stream",
     "text": [
      "Epoch 88/100, unlabeled Loss: 0.0014, Acc:1.0000, F1:1.0000\n"
     ]
    },
    {
     "name": "stderr",
     "output_type": "stream",
     "text": [
      "Epoch 88/100, val, alpha:1.00: 100%|██████████| 4/4 [00:00<00:00, 12.67it/s]\n"
     ]
    },
    {
     "name": "stdout",
     "output_type": "stream",
     "text": [
      "Epoch 88/100, val Loss: 0.3811, Acc:0.9548, F1:0.8000\n"
     ]
    },
    {
     "name": "stderr",
     "output_type": "stream",
     "text": [
      "Epoch 89/100, train, alpha:1.00: 100%|██████████| 4/4 [00:00<00:00,  6.61it/s]\n"
     ]
    },
    {
     "name": "stdout",
     "output_type": "stream",
     "text": [
      "Epoch 89/100, train Loss: 0.0011, Acc:1.0000, F1:1.0000\n"
     ]
    },
    {
     "name": "stderr",
     "output_type": "stream",
     "text": [
      "Predicting pseudo labels: 100%|██████████| 31/31 [00:03<00:00, 10.14it/s]\n",
      "Epoch 89/100, unlabeled, alpha:1.00: 100%|██████████| 31/31 [00:03<00:00,  8.14it/s]\n"
     ]
    },
    {
     "name": "stdout",
     "output_type": "stream",
     "text": [
      "Epoch 89/100, unlabeled Loss: 0.0011, Acc:1.0000, F1:1.0000\n"
     ]
    },
    {
     "name": "stderr",
     "output_type": "stream",
     "text": [
      "Epoch 89/100, val, alpha:1.00: 100%|██████████| 4/4 [00:00<00:00, 12.77it/s]\n"
     ]
    },
    {
     "name": "stdout",
     "output_type": "stream",
     "text": [
      "Epoch 89/100, val Loss: 0.3760, Acc:0.9548, F1:0.8000\n"
     ]
    },
    {
     "name": "stderr",
     "output_type": "stream",
     "text": [
      "Epoch 90/100, train, alpha:1.00: 100%|██████████| 4/4 [00:00<00:00,  6.82it/s]\n"
     ]
    },
    {
     "name": "stdout",
     "output_type": "stream",
     "text": [
      "Epoch 90/100, train Loss: 0.0046, Acc:1.0000, F1:1.0000\n"
     ]
    },
    {
     "name": "stderr",
     "output_type": "stream",
     "text": [
      "Predicting pseudo labels: 100%|██████████| 31/31 [00:03<00:00, 10.17it/s]\n",
      "Epoch 90/100, unlabeled, alpha:1.00: 100%|██████████| 31/31 [00:03<00:00,  8.00it/s]\n"
     ]
    },
    {
     "name": "stdout",
     "output_type": "stream",
     "text": [
      "Epoch 90/100, unlabeled Loss: 0.0046, Acc:1.0000, F1:1.0000\n"
     ]
    },
    {
     "name": "stderr",
     "output_type": "stream",
     "text": [
      "Epoch 90/100, val, alpha:1.00: 100%|██████████| 4/4 [00:00<00:00, 12.41it/s]\n"
     ]
    },
    {
     "name": "stdout",
     "output_type": "stream",
     "text": [
      "Epoch 90/100, val Loss: 0.3761, Acc:0.9548, F1:0.8000\n"
     ]
    },
    {
     "name": "stderr",
     "output_type": "stream",
     "text": [
      "Epoch 91/100, train, alpha:1.00: 100%|██████████| 4/4 [00:00<00:00,  6.58it/s]\n"
     ]
    },
    {
     "name": "stdout",
     "output_type": "stream",
     "text": [
      "Epoch 91/100, train Loss: 0.2721, Acc:0.9648, F1:0.9622\n"
     ]
    },
    {
     "name": "stderr",
     "output_type": "stream",
     "text": [
      "Predicting pseudo labels: 100%|██████████| 31/31 [00:03<00:00, 10.12it/s]\n",
      "Epoch 91/100, unlabeled, alpha:1.00: 100%|██████████| 31/31 [00:03<00:00,  8.15it/s]\n"
     ]
    },
    {
     "name": "stdout",
     "output_type": "stream",
     "text": [
      "Epoch 91/100, unlabeled Loss: 0.2721, Acc:0.9648, F1:0.9622\n"
     ]
    },
    {
     "name": "stderr",
     "output_type": "stream",
     "text": [
      "Epoch 91/100, val, alpha:1.00: 100%|██████████| 4/4 [00:00<00:00, 12.89it/s]\n"
     ]
    },
    {
     "name": "stdout",
     "output_type": "stream",
     "text": [
      "Epoch 91/100, val Loss: 0.9784, Acc:0.7487, F1:0.4444\n"
     ]
    },
    {
     "name": "stderr",
     "output_type": "stream",
     "text": [
      "Epoch 92/100, train, alpha:1.00: 100%|██████████| 4/4 [00:00<00:00,  6.58it/s]\n"
     ]
    },
    {
     "name": "stdout",
     "output_type": "stream",
     "text": [
      "Epoch 92/100, train Loss: 0.0314, Acc:0.9849, F1:0.9862\n"
     ]
    },
    {
     "name": "stderr",
     "output_type": "stream",
     "text": [
      "Predicting pseudo labels: 100%|██████████| 31/31 [00:03<00:00,  9.97it/s]\n",
      "Epoch 92/100, unlabeled, alpha:1.00: 100%|██████████| 31/31 [00:03<00:00,  8.08it/s]\n"
     ]
    },
    {
     "name": "stdout",
     "output_type": "stream",
     "text": [
      "Epoch 92/100, unlabeled Loss: 0.0314, Acc:0.9849, F1:0.9862\n"
     ]
    },
    {
     "name": "stderr",
     "output_type": "stream",
     "text": [
      "Epoch 92/100, val, alpha:1.00: 100%|██████████| 4/4 [00:00<00:00, 11.37it/s]\n"
     ]
    },
    {
     "name": "stdout",
     "output_type": "stream",
     "text": [
      "Epoch 92/100, val Loss: 0.8653, Acc:0.7940, F1:0.4810\n"
     ]
    },
    {
     "name": "stderr",
     "output_type": "stream",
     "text": [
      "Epoch 93/100, train, alpha:1.00: 100%|██████████| 4/4 [00:00<00:00,  6.60it/s]\n"
     ]
    },
    {
     "name": "stdout",
     "output_type": "stream",
     "text": [
      "Epoch 93/100, train Loss: 0.0089, Acc:0.9950, F1:0.9951\n"
     ]
    },
    {
     "name": "stderr",
     "output_type": "stream",
     "text": [
      "Predicting pseudo labels: 100%|██████████| 31/31 [00:03<00:00,  9.91it/s]\n",
      "Epoch 93/100, unlabeled, alpha:1.00: 100%|██████████| 31/31 [00:03<00:00,  8.12it/s]\n"
     ]
    },
    {
     "name": "stdout",
     "output_type": "stream",
     "text": [
      "Epoch 93/100, unlabeled Loss: 0.0089, Acc:0.9950, F1:0.9951\n"
     ]
    },
    {
     "name": "stderr",
     "output_type": "stream",
     "text": [
      "Epoch 93/100, val, alpha:1.00: 100%|██████████| 4/4 [00:00<00:00, 12.36it/s]\n"
     ]
    },
    {
     "name": "stdout",
     "output_type": "stream",
     "text": [
      "Epoch 93/100, val Loss: 0.6871, Acc:0.8693, F1:0.5806\n"
     ]
    },
    {
     "name": "stderr",
     "output_type": "stream",
     "text": [
      "Epoch 94/100, train, alpha:1.00: 100%|██████████| 4/4 [00:00<00:00,  6.62it/s]\n"
     ]
    },
    {
     "name": "stdout",
     "output_type": "stream",
     "text": [
      "Epoch 94/100, train Loss: 0.0184, Acc:0.9950, F1:0.9953\n"
     ]
    },
    {
     "name": "stderr",
     "output_type": "stream",
     "text": [
      "Predicting pseudo labels: 100%|██████████| 31/31 [00:03<00:00, 10.03it/s]\n",
      "Epoch 94/100, unlabeled, alpha:1.00: 100%|██████████| 31/31 [00:03<00:00,  8.12it/s]\n"
     ]
    },
    {
     "name": "stdout",
     "output_type": "stream",
     "text": [
      "Epoch 94/100, unlabeled Loss: 0.0184, Acc:0.9950, F1:0.9953\n"
     ]
    },
    {
     "name": "stderr",
     "output_type": "stream",
     "text": [
      "Epoch 94/100, val, alpha:1.00: 100%|██████████| 4/4 [00:00<00:00, 12.27it/s]\n"
     ]
    },
    {
     "name": "stdout",
     "output_type": "stream",
     "text": [
      "Epoch 94/100, val Loss: 0.5257, Acc:0.9095, F1:0.6667\n"
     ]
    },
    {
     "name": "stderr",
     "output_type": "stream",
     "text": [
      "Epoch 95/100, train, alpha:1.00: 100%|██████████| 4/4 [00:00<00:00,  6.63it/s]\n"
     ]
    },
    {
     "name": "stdout",
     "output_type": "stream",
     "text": [
      "Epoch 95/100, train Loss: 0.0016, Acc:1.0000, F1:1.0000\n"
     ]
    },
    {
     "name": "stderr",
     "output_type": "stream",
     "text": [
      "Predicting pseudo labels: 100%|██████████| 31/31 [00:03<00:00,  9.85it/s]\n",
      "Epoch 95/100, unlabeled, alpha:1.00: 100%|██████████| 31/31 [00:03<00:00,  8.12it/s]\n"
     ]
    },
    {
     "name": "stdout",
     "output_type": "stream",
     "text": [
      "Epoch 95/100, unlabeled Loss: 0.0016, Acc:1.0000, F1:1.0000\n"
     ]
    },
    {
     "name": "stderr",
     "output_type": "stream",
     "text": [
      "Epoch 95/100, val, alpha:1.00: 100%|██████████| 4/4 [00:00<00:00, 12.76it/s]\n"
     ]
    },
    {
     "name": "stdout",
     "output_type": "stream",
     "text": [
      "Epoch 95/100, val Loss: 0.5070, Acc:0.8945, F1:0.6316\n"
     ]
    },
    {
     "name": "stderr",
     "output_type": "stream",
     "text": [
      "Epoch 96/100, train, alpha:1.00: 100%|██████████| 4/4 [00:00<00:00,  6.22it/s]\n"
     ]
    },
    {
     "name": "stdout",
     "output_type": "stream",
     "text": [
      "Epoch 96/100, train Loss: 0.0096, Acc:0.9950, F1:0.9952\n"
     ]
    },
    {
     "name": "stderr",
     "output_type": "stream",
     "text": [
      "Predicting pseudo labels: 100%|██████████| 31/31 [00:03<00:00, 10.13it/s]\n",
      "Epoch 96/100, unlabeled, alpha:1.00: 100%|██████████| 31/31 [00:03<00:00,  8.06it/s]\n"
     ]
    },
    {
     "name": "stdout",
     "output_type": "stream",
     "text": [
      "Epoch 96/100, unlabeled Loss: 0.0096, Acc:0.9950, F1:0.9952\n"
     ]
    },
    {
     "name": "stderr",
     "output_type": "stream",
     "text": [
      "Epoch 96/100, val, alpha:1.00: 100%|██████████| 4/4 [00:00<00:00, 12.57it/s]\n"
     ]
    },
    {
     "name": "stdout",
     "output_type": "stream",
     "text": [
      "Epoch 96/100, val Loss: 0.4152, Acc:0.9246, F1:0.7059\n"
     ]
    },
    {
     "name": "stderr",
     "output_type": "stream",
     "text": [
      "Epoch 97/100, train, alpha:1.00: 100%|██████████| 4/4 [00:00<00:00,  6.68it/s]\n"
     ]
    },
    {
     "name": "stdout",
     "output_type": "stream",
     "text": [
      "Epoch 97/100, train Loss: 0.0020, Acc:1.0000, F1:1.0000\n"
     ]
    },
    {
     "name": "stderr",
     "output_type": "stream",
     "text": [
      "Predicting pseudo labels: 100%|██████████| 31/31 [00:03<00:00,  9.90it/s]\n",
      "Epoch 97/100, unlabeled, alpha:1.00: 100%|██████████| 31/31 [00:03<00:00,  8.13it/s]\n"
     ]
    },
    {
     "name": "stdout",
     "output_type": "stream",
     "text": [
      "Epoch 97/100, unlabeled Loss: 0.0020, Acc:1.0000, F1:1.0000\n"
     ]
    },
    {
     "name": "stderr",
     "output_type": "stream",
     "text": [
      "Epoch 97/100, val, alpha:1.00: 100%|██████████| 4/4 [00:00<00:00, 12.42it/s]\n"
     ]
    },
    {
     "name": "stdout",
     "output_type": "stream",
     "text": [
      "Epoch 97/100, val Loss: 0.4209, Acc:0.9196, F1:0.6923\n"
     ]
    },
    {
     "name": "stderr",
     "output_type": "stream",
     "text": [
      "Epoch 98/100, train, alpha:1.00: 100%|██████████| 4/4 [00:00<00:00,  6.61it/s]\n"
     ]
    },
    {
     "name": "stdout",
     "output_type": "stream",
     "text": [
      "Epoch 98/100, train Loss: 0.0017, Acc:1.0000, F1:1.0000\n"
     ]
    },
    {
     "name": "stderr",
     "output_type": "stream",
     "text": [
      "Predicting pseudo labels: 100%|██████████| 31/31 [00:03<00:00,  9.90it/s]\n",
      "Epoch 98/100, unlabeled, alpha:1.00: 100%|██████████| 31/31 [00:03<00:00,  8.14it/s]\n"
     ]
    },
    {
     "name": "stdout",
     "output_type": "stream",
     "text": [
      "Epoch 98/100, unlabeled Loss: 0.0017, Acc:1.0000, F1:1.0000\n"
     ]
    },
    {
     "name": "stderr",
     "output_type": "stream",
     "text": [
      "Epoch 98/100, val, alpha:1.00: 100%|██████████| 4/4 [00:00<00:00, 12.39it/s]\n"
     ]
    },
    {
     "name": "stdout",
     "output_type": "stream",
     "text": [
      "Epoch 98/100, val Loss: 0.4128, Acc:0.9296, F1:0.7200\n"
     ]
    },
    {
     "name": "stderr",
     "output_type": "stream",
     "text": [
      "Epoch 99/100, train, alpha:1.00: 100%|██████████| 4/4 [00:00<00:00,  6.60it/s]\n"
     ]
    },
    {
     "name": "stdout",
     "output_type": "stream",
     "text": [
      "Epoch 99/100, train Loss: 0.0021, Acc:1.0000, F1:1.0000\n"
     ]
    },
    {
     "name": "stderr",
     "output_type": "stream",
     "text": [
      "Predicting pseudo labels: 100%|██████████| 31/31 [00:03<00:00, 10.07it/s]\n",
      "Epoch 99/100, unlabeled, alpha:1.00: 100%|██████████| 31/31 [00:03<00:00,  8.12it/s]\n"
     ]
    },
    {
     "name": "stdout",
     "output_type": "stream",
     "text": [
      "Epoch 99/100, unlabeled Loss: 0.0021, Acc:1.0000, F1:1.0000\n"
     ]
    },
    {
     "name": "stderr",
     "output_type": "stream",
     "text": [
      "Epoch 99/100, val, alpha:1.00: 100%|██████████| 4/4 [00:00<00:00, 12.50it/s]\n"
     ]
    },
    {
     "name": "stdout",
     "output_type": "stream",
     "text": [
      "Epoch 99/100, val Loss: 0.4110, Acc:0.9397, F1:0.7391\n",
      "Training complete in 12m 36s\n",
      "Saved model is from 77 epoch with f1 0.8\n"
     ]
    },
    {
     "data": {
      "text/plain": [
       "<All keys matched successfully>"
      ]
     },
     "execution_count": 10,
     "metadata": {},
     "output_type": "execute_result"
    }
   ],
   "source": [
    "alphas = np.linspace(0, 1, reach_max_alpha_in - start_alpha_from)\n",
    "\n",
    "since = time.time()\n",
    "current_time = datetime.datetime.now()\n",
    "save_time_prefix = f\"{current_time.year}{current_time.month}{current_time.day}_{current_time.hour}{current_time.minute}{current_time.second}\"\n",
    "model_save_path = None\n",
    "\n",
    "writer = SummaryWriter()\n",
    "os.makedirs(\"checkpoints\", exist_ok=True)\n",
    "\n",
    "best_model_wts = copy.deepcopy(model.state_dict())\n",
    "best_f1 = 0.0\n",
    "\n",
    "for epoch in range(num_epochs):\n",
    "\n",
    "    if epoch < start_alpha_from:\n",
    "        alpha = 0\n",
    "    elif epoch - start_alpha_from >= len(alphas):\n",
    "        alpha = alphas[-1]\n",
    "    else:\n",
    "        alpha = alphas[max(0,epoch - start_alpha_from)]\n",
    "\n",
    "    for phase in ['train', 'unlabeled', 'val']:\n",
    "\n",
    "        if alpha == 0 and phase == 'unlabeled':\n",
    "            continue\n",
    "        if phase in ['train', 'unlabeled']:\n",
    "            model.train()\n",
    "        else:\n",
    "            model.eval()\n",
    "\n",
    "        running_loss = 0.0\n",
    "        running_corrects = 0\n",
    "\n",
    "        # for confusion matrix\n",
    "        epoch_preds = []\n",
    "        epoch_lbls = []\n",
    "\n",
    "        for batch_id, (img, lbl) in enumerate(tqdm(dataloaders[phase], desc=f\"Epoch {epoch}/{num_epochs}, {phase}, alpha:{alpha:.2f}\")):\n",
    "            img = img.to(device)\n",
    "            if phase in ['train', 'val']:\n",
    "                lbl = lbl.to(device)\n",
    "\n",
    "            optimizer.zero_grad()\n",
    "\n",
    "            with torch.set_grad_enabled(phase in ['train', 'unlabeled']):\n",
    "                output = model(img)\n",
    "                preds = torch.argmax(output, 1)\n",
    "\n",
    "                if phase in ['train', 'val']:\n",
    "                    loss = criterion(output, lbl)\n",
    "                else:\n",
    "                    loss = alpha * criterion(output, torch.tensor(pseudo_labels[lbl], dtype=torch.int64, device=device))\n",
    "\n",
    "                if phase in ['train', 'val']:\n",
    "                    epoch_preds.extend(preds.detach().cpu())\n",
    "                    epoch_lbls.extend(lbl.detach().cpu())\n",
    "\n",
    "                if phase in ['train', 'unlabeled']:\n",
    "                    loss.backward()\n",
    "                    optimizer.step()\n",
    "\n",
    "            if phase in ['train', 'val']:\n",
    "                writer.add_scalars(f'Step-Loss/{phase}', {'loss':loss.item(), 'alpha':alpha}, (len(dataloaders[phase])*epoch)+batch_id)\n",
    "                running_loss += loss.item() * img.size(0)\n",
    "                running_corrects += torch.sum(preds == lbl.data)\n",
    "\n",
    "        # if phase in ['train', 'val']:\n",
    "        #   print(confusion_matrix(epoch_lbls, epoch_preds), np.array([0, 1]))\n",
    "\n",
    "        if scheduler is not None and phase == 'train':\n",
    "            scheduler.step()\n",
    "\n",
    "        if phase in ['train', 'val']:\n",
    "            epoch_f1 = f1_score(epoch_lbls, epoch_preds)\n",
    "            epoch_loss = running_loss / dataset_size[phase]\n",
    "            epoch_acc = running_corrects.double() / dataset_size[phase]\n",
    "\n",
    "        if phase in ['train', 'val']:\n",
    "            writer.add_scalar(f'Loss/{phase}', epoch_loss, epoch)\n",
    "            writer.add_scalars(f'F1/{phase}', {'f1':epoch_f1, 'alpha':alpha}, epoch)\n",
    "            writer.add_scalars(f'Accuracy/{phase}', {'accu':epoch_acc, 'alpha':alpha}, epoch)\n",
    "\n",
    "        print(f'Epoch {epoch}/{num_epochs}, {phase} Loss: {epoch_loss:.4f}, Acc:{epoch_acc:.4f}, F1:{epoch_f1:.4f}')\n",
    "\n",
    "        if phase == 'train' and epoch >= start_alpha_from - 1:\n",
    "            model.eval()\n",
    "            for img, lbl in tqdm(dataloaders['unlabeled'], desc=\"Predicting pseudo labels\"):\n",
    "                img = img.to(device)\n",
    "                preds = torch.argmax(model(img), 1)\n",
    "                pseudo_labels[lbl] = preds.detach().cpu()\n",
    "\n",
    "        if phase == 'val' and epoch_f1 > best_f1:\n",
    "            best_epoch = epoch\n",
    "            best_f1 = epoch_f1\n",
    "            best_model_wts = copy.deepcopy(model.state_dict())\n",
    "\n",
    "            if model_save_path:\n",
    "                os.remove(model_save_path)\n",
    "            model_save_path = f\"checkpoints/{save_time_prefix}_epoch{epoch:03d}_fscore{best_f1:.3f}.pt\"\n",
    "\n",
    "            torch.save({\n",
    "                'epoch': epoch,\n",
    "                'model_state_dict': model.state_dict(),\n",
    "                'optimizer_state_dict': optimizer.state_dict(),\n",
    "            }, model_save_path)\n",
    "\n",
    "time_elapsed = time.time() - since\n",
    "writer.close()\n",
    "\n",
    "torch.save({\n",
    "    'epoch': num_epochs - 1,\n",
    "    'model_state_dict': model.state_dict(),\n",
    "    'optimizer_state_dict': optimizer.state_dict(),\n",
    "}, f\"checkpoints/{save_time_prefix}_last.pt\")\n",
    "print(f'Training complete in {time_elapsed // 60:.0f}m {time_elapsed % 60:.0f}s')\n",
    "print(f'Saved model is from {best_epoch} epoch with f1 {best_f1}')\n",
    "model.load_state_dict(best_model_wts)"
   ]
  },
  {
   "cell_type": "markdown",
   "metadata": {},
   "source": [
    "## Test"
   ]
  },
  {
   "cell_type": "code",
   "execution_count": 18,
   "metadata": {},
   "outputs": [
    {
     "name": "stdout",
     "output_type": "stream",
     "text": [
      "Not-Flooded\n"
     ]
    },
    {
     "name": "stderr",
     "output_type": "stream",
     "text": [
      "/tmp/ipykernel_1853435/1418463715.py:1: FutureWarning: You are using `torch.load` with `weights_only=False` (the current default value), which uses the default pickle module implicitly. It is possible to construct malicious pickle data which will execute arbitrary code during unpickling (See https://github.com/pytorch/pytorch/blob/main/SECURITY.md#untrusted-models for more details). In a future release, the default value for `weights_only` will be flipped to `True`. This limits the functions that could be executed during unpickling. Arbitrary objects will no longer be allowed to be loaded via this mode unless they are explicitly allowlisted by the user via `torch.serialization.add_safe_globals`. We recommend you start setting `weights_only=True` for any use case where you don't have full control of the loaded file. Please open an issue on GitHub for any issues related to this experimental feature.\n",
      "  best_model_wts = torch.load(model_save_path)\n"
     ]
    },
    {
     "data": {
      "text/plain": [
       "<matplotlib.image.AxesImage at 0x7f55680eddc0>"
      ]
     },
     "execution_count": 18,
     "metadata": {},
     "output_type": "execute_result"
    },
    {
     "data": {
      "image/png": "[encoded data removed]",
      "text/plain": [
       "<Figure size 640x480 with 1 Axes>"
      ]
     },
     "metadata": {},
     "output_type": "display_data"
    }
   ],
   "source": [
    "best_model_wts = torch.load(model_save_path)\n",
    "model.load_state_dict(best_model_wts[\"model_state_dict\"])\n",
    "\n",
    "fname = \"../data/processed/validation/img/8058.jpg\"\n",
    "classes = {0:'Not-Flooded', 1:'Flooded'}\n",
    "test_img = np.array(Image.open(fname))\n",
    "test_img_t = transforms['val'](test_img).unsqueeze(0)\n",
    "\n",
    "model.eval()\n",
    "with torch.no_grad():\n",
    "    pred = torch.argmax(model(test_img_t.to(device))).detach().cpu().item()\n",
    "print(classes[pred])\n",
    "\n",
    "plt.imshow(test_img)"
   ]
  },
  {
   "cell_type": "code",
   "execution_count": 17,
   "metadata": {},
   "outputs": [
    {
     "data": {
      "text/plain": [
       "0"
      ]
     },
     "execution_count": 17,
     "metadata": {},
     "output_type": "execute_result"
    }
   ],
   "source": [
    "pred"
   ]
  },
  {
   "cell_type": "code",
   "execution_count": null,
   "metadata": {},
   "outputs": [],
   "source": []
  }
 ],
 "metadata": {
  "kernelspec": {
   "display_name": "py312",
   "language": "python",
   "name": "python3"
  },
  "language_info": {
   "codemirror_mode": {
    "name": "ipython",
    "version": 3
   },
   "file_extension": ".py",
   "mimetype": "text/x-python",
   "name": "python",
   "nbconvert_exporter": "python",
   "pygments_lexer": "ipython3",
   "version": "3.12.4"
  }
 },
 "nbformat": 4,
 "nbformat_minor": 2
}
